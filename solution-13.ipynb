{
 "cells": [
  {
   "cell_type": "code",
   "execution_count": null,
   "metadata": {},
   "outputs": [],
   "source": [
    "from html.parser import HTMLParser\n",
    "class MyHTMLParser(HTMLParser):\n",
    "    def handle_starttag(self, tag, attrs):        \n",
    "        print (tag)\n",
    "        for a in attrs:\n",
    "            print ('->',a[0],'>',a[1])\n",
    "        \n",
    "    def handle_startendtag(self, tag, attrs):\n",
    "        print (tag)\n",
    "        for a in attrs:\n",
    "            print ('->',a[0],'>',a[1])\n",
    "            \n",
    "Parser = MyHTMLParser()\n",
    "Parser.feed(''.join([input().strip() for _ in range(int(input()))]))\n"
   ]
  }
 ],
 "metadata": {
  "kernelspec": {
   "display_name": "Python 3",
   "language": "python",
   "name": "python3"
  },
  "language_info": {
   "codemirror_mode": {
    "name": "ipython",
    "version": 3
   },
   "file_extension": ".py",
   "mimetype": "text/x-python",
   "name": "python",
   "nbconvert_exporter": "python",
   "pygments_lexer": "ipython3",
   "version": "3.7.3"
  }
 },
 "nbformat": 4,
 "nbformat_minor": 2
}
