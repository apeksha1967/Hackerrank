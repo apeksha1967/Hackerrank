{
 "cells": [
  {
   "cell_type": "code",
   "execution_count": null,
   "metadata": {},
   "outputs": [],
   "source": [
    "\"\"\" Node is defined as\n",
    "class node:\n",
    "  def __init__(self, data):\n",
    "      self.data = data\n",
    "      self.left = None\n",
    "      self.right = None\n",
    "\"\"\"\n",
    "def check_binary_search_tree_(root):\n",
    "    tree = []\n",
    "    def in_order(root):\n",
    "        if root is None: return\n",
    "        in_order(root.left)\n",
    "        tree.append(root.data)\n",
    "        in_order(root.right)\n",
    "    in_order(root)\n",
    "    return len(tree) == len(set(tree)) and tree == list(sorted(tree))"
   ]
  }
 ],
 "metadata": {
  "kernelspec": {
   "display_name": "Python 3",
   "language": "python",
   "name": "python3"
  },
  "language_info": {
   "codemirror_mode": {
    "name": "ipython",
    "version": 3
   },
   "file_extension": ".py",
   "mimetype": "text/x-python",
   "name": "python",
   "nbconvert_exporter": "python",
   "pygments_lexer": "ipython3",
   "version": "3.7.6"
  }
 },
 "nbformat": 4,
 "nbformat_minor": 4
}
