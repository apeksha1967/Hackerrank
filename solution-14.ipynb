{
 "cells": [
  {
   "cell_type": "code",
   "execution_count": null,
   "metadata": {},
   "outputs": [],
   "source": [
    "import re\n",
    "for _ in range(int(input())):\n",
    "    u = ''.join(sorted(input()))\n",
    "    x=list(u)\n",
    "    y=set(u)\n",
    "    if len(x)==len(y):\n",
    "        try:\n",
    "            assert re.search(r'[A-Z]{2}', u)\n",
    "            assert re.search(r'\\d\\d\\d', u)\n",
    "            assert len(u) == 10\n",
    "        except:\n",
    "            print('Invalid')\n",
    "        else:\n",
    "            if re.match(r'[A-ZA-Z\\d\\d\\d\\w\\w\\w\\w\\w]',u):\n",
    "                print('Valid')\n",
    "            else:\n",
    "                print('Invalid')\n",
    "    else:\n",
    "        print('Invalid')\n"
   ]
  }
 ],
 "metadata": {
  "kernelspec": {
   "display_name": "Python 3",
   "language": "python",
   "name": "python3"
  },
  "language_info": {
   "codemirror_mode": {
    "name": "ipython",
    "version": 3
   },
   "file_extension": ".py",
   "mimetype": "text/x-python",
   "name": "python",
   "nbconvert_exporter": "python",
   "pygments_lexer": "ipython3",
   "version": "3.7.3"
  }
 },
 "nbformat": 4,
 "nbformat_minor": 2
}
