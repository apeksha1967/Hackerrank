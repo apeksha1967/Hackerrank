{
 "cells": [
  {
   "cell_type": "code",
   "execution_count": null,
   "metadata": {},
   "outputs": [],
   "source": [
    "def median(arr):\n",
    "    n = len(arr)\n",
    "    if n%2!=0:\n",
    "        return arr[n//2]\n",
    "    else:\n",
    "        return int((arr[(n//2)-1]+arr[n//2])/2)\n",
    "\n",
    "n = int(input())\n",
    "X = sorted(list(map(int,input().split())))\n",
    "print(median(X[:n//2]))\n",
    "print(median(X))\n",
    "if n%2!=0:\n",
    "    print(median(X[n//2+1:]))\n",
    "else:\n",
    "    print(median(X[n//2:]))\n"
   ]
  }
 ],
 "metadata": {
  "kernelspec": {
   "display_name": "Python 3",
   "language": "python",
   "name": "python3"
  },
  "language_info": {
   "codemirror_mode": {
    "name": "ipython",
    "version": 3
   },
   "file_extension": ".py",
   "mimetype": "text/x-python",
   "name": "python",
   "nbconvert_exporter": "python",
   "pygments_lexer": "ipython3",
   "version": "3.7.6"
  }
 },
 "nbformat": 4,
 "nbformat_minor": 4
}
