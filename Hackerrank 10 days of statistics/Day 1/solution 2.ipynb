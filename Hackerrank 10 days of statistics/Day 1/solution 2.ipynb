{
 "cells": [
  {
   "cell_type": "code",
   "execution_count": null,
   "metadata": {},
   "outputs": [],
   "source": [
    "def median(arr):\n",
    "    n = len(arr)\n",
    "    if n%2!=0:\n",
    "        return float(arr[n//2])\n",
    "    else:\n",
    "        return float((arr[(n//2)-1]+arr[n//2])/2)\n",
    "\n",
    "n = int(input())\n",
    "Y = list(map(int,input().split()))\n",
    "F = list(map(int,input().split()))\n",
    "X = []\n",
    "for i in range(n):\n",
    "    for j in range(F[i]):\n",
    "        X.append(Y[i])\n",
    "X.sort()\n",
    "n = len(X)\n",
    "q1 = median(X[:n//2])\n",
    "if n%2!=0:\n",
    "    q3 = median(X[n//2+1:])\n",
    "else:\n",
    "    q3 = median(X[n//2:])\n",
    "print(q3 - q1)\n",
    "\n"
   ]
  }
 ],
 "metadata": {
  "kernelspec": {
   "display_name": "Python 3",
   "language": "python",
   "name": "python3"
  },
  "language_info": {
   "codemirror_mode": {
    "name": "ipython",
    "version": 3
   },
   "file_extension": ".py",
   "mimetype": "text/x-python",
   "name": "python",
   "nbconvert_exporter": "python",
   "pygments_lexer": "ipython3",
   "version": "3.7.6"
  }
 },
 "nbformat": 4,
 "nbformat_minor": 4
}
