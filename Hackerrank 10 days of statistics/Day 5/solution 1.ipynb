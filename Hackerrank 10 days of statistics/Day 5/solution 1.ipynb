{
 "cells": [
  {
   "cell_type": "code",
   "execution_count": null,
   "metadata": {},
   "outputs": [],
   "source": [
    "lam = float(input())\n",
    "k = int(input())\n",
    "\n",
    "def fact(k):\n",
    "    kf = 1\n",
    "    for i in range(2,k+1):\n",
    "        kf *= i\n",
    "    return kf\n",
    "\n",
    "e = 2.71828\n",
    "p = ((lam**k)*(e**(-lam)))/fact(k)\n",
    "print(round(p,3))\n"
   ]
  }
 ],
 "metadata": {
  "kernelspec": {
   "display_name": "Python 3",
   "language": "python",
   "name": "python3"
  },
  "language_info": {
   "codemirror_mode": {
    "name": "ipython",
    "version": 3
   },
   "file_extension": ".py",
   "mimetype": "text/x-python",
   "name": "python",
   "nbconvert_exporter": "python",
   "pygments_lexer": "ipython3",
   "version": "3.7.6"
  }
 },
 "nbformat": 4,
 "nbformat_minor": 4
}
