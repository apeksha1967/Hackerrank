{
 "cells": [
  {
   "cell_type": "code",
   "execution_count": null,
   "metadata": {},
   "outputs": [],
   "source": [
    "ab = list(map(float,input().split()))\n",
    "lamA = ab[0]\n",
    "lamB = ab[1]\n",
    "\n",
    "cA = 160 + 40*(lamA+(lamA)**2)\n",
    "cB = 128 + 40*(lamB+(lamB)**2)\n",
    "\n",
    "print(round(cA,3))\n",
    "print(round(cB,3))\n"
   ]
  }
 ],
 "metadata": {
  "kernelspec": {
   "display_name": "Python 3",
   "language": "python",
   "name": "python3"
  },
  "language_info": {
   "codemirror_mode": {
    "name": "ipython",
    "version": 3
   },
   "file_extension": ".py",
   "mimetype": "text/x-python",
   "name": "python",
   "nbconvert_exporter": "python",
   "pygments_lexer": "ipython3",
   "version": "3.7.6"
  }
 },
 "nbformat": 4,
 "nbformat_minor": 4
}
