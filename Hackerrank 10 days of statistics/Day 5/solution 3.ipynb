{
 "cells": [
  {
   "cell_type": "code",
   "execution_count": null,
   "metadata": {},
   "outputs": [],
   "source": [
    "import math\n",
    "inp = list(map(float,input().split()))\n",
    "mu = inp[0]\n",
    "std = inp[1]\n",
    "x = float(input())\n",
    "inp = list(map(float,input().split()))\n",
    "x1 = inp[0]\n",
    "x2 = inp[1]\n",
    "\n",
    "def normal(x,mu,std):\n",
    "    N =  0.5 + 0.5 * math.erf((x-mu)/(std* 2**0.5))\n",
    "    return N\n",
    "\n",
    "print(round(normal(x,mu,std),3))\n",
    "print(round(normal(x2,mu,std)-normal(x1,mu,std),3))\n"
   ]
  }
 ],
 "metadata": {
  "kernelspec": {
   "display_name": "Python 3",
   "language": "python",
   "name": "python3"
  },
  "language_info": {
   "codemirror_mode": {
    "name": "ipython",
    "version": 3
   },
   "file_extension": ".py",
   "mimetype": "text/x-python",
   "name": "python",
   "nbconvert_exporter": "python",
   "pygments_lexer": "ipython3",
   "version": "3.7.6"
  }
 },
 "nbformat": 4,
 "nbformat_minor": 4
}
