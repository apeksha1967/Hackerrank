{
 "cells": [
  {
   "cell_type": "code",
   "execution_count": null,
   "metadata": {},
   "outputs": [],
   "source": [
    "n = int(input())\n",
    "x = list(map(float,input().split()))\n",
    "y = list(map(float,input().split()))\n",
    "\n",
    "mu_x = sum(x)/n\n",
    "mu_y = sum(y)/n\n",
    "\n",
    "def std(X,n,mu):\n",
    "    s = 0\n",
    "    for i in range(n):\n",
    "        s += (X[i]-mu)**2\n",
    "    std = (s/n)**0.5\n",
    "    return std\n",
    "\n",
    "p = 0\n",
    "for i in range(n):\n",
    "    p += (x[i]-mu_x)*(y[i]-mu_y)\n",
    "\n",
    "p /= n*std(x,n,mu_x)*std(y,n,mu_y)\n",
    "\n",
    "print(round(p,3))\n"
   ]
  }
 ],
 "metadata": {
  "kernelspec": {
   "display_name": "Python 3",
   "language": "python",
   "name": "python3"
  },
  "language_info": {
   "codemirror_mode": {
    "name": "ipython",
    "version": 3
   },
   "file_extension": ".py",
   "mimetype": "text/x-python",
   "name": "python",
   "nbconvert_exporter": "python",
   "pygments_lexer": "ipython3",
   "version": "3.7.6"
  }
 },
 "nbformat": 4,
 "nbformat_minor": 4
}
