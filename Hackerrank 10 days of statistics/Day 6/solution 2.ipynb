{
 "cells": [
  {
   "cell_type": "code",
   "execution_count": null,
   "metadata": {},
   "outputs": [],
   "source": [
    "import math\n",
    "\n",
    "x = int(input())\n",
    "n = int(input())\n",
    "mu = float(input())\n",
    "std = float(input())\n",
    "\n",
    "mu *= n\n",
    "std *= n**0.5\n",
    "\n",
    "def normal(x,mu,std):\n",
    "    N =  0.5 + 0.5 * math.erf((x-mu)/(std* 2**0.5))\n",
    "    return N\n",
    "\n",
    "print(round(normal(x,mu,std),4))\n"
   ]
  }
 ],
 "metadata": {
  "kernelspec": {
   "display_name": "Python 3",
   "language": "python",
   "name": "python3"
  },
  "language_info": {
   "codemirror_mode": {
    "name": "ipython",
    "version": 3
   },
   "file_extension": ".py",
   "mimetype": "text/x-python",
   "name": "python",
   "nbconvert_exporter": "python",
   "pygments_lexer": "ipython3",
   "version": "3.7.6"
  }
 },
 "nbformat": 4,
 "nbformat_minor": 4
}
