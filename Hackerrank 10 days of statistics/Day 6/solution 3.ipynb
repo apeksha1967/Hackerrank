{
 "cells": [
  {
   "cell_type": "code",
   "execution_count": null,
   "metadata": {},
   "outputs": [],
   "source": [
    "sample = int(input())\n",
    "mu = int(input())\n",
    "std = int(input())\n",
    "percent = float(input())\n",
    "z = float(input())\n",
    "\n",
    "std_sample = std/(sample**0.5)\n",
    "print(round(mu-std_sample*z,2))\n",
    "print(round(mu+std_sample*z,2))\n"
   ]
  }
 ],
 "metadata": {
  "kernelspec": {
   "display_name": "Python 3",
   "language": "python",
   "name": "python3"
  },
  "language_info": {
   "codemirror_mode": {
    "name": "ipython",
    "version": 3
   },
   "file_extension": ".py",
   "mimetype": "text/x-python",
   "name": "python",
   "nbconvert_exporter": "python",
   "pygments_lexer": "ipython3",
   "version": "3.7.6"
  }
 },
 "nbformat": 4,
 "nbformat_minor": 4
}
