{
 "cells": [
  {
   "cell_type": "code",
   "execution_count": null,
   "metadata": {},
   "outputs": [],
   "source": [
    "mn = list(map(int,input().split()))\n",
    "m = mn[0]\n",
    "n = mn[1]\n",
    "x = []\n",
    "y = []\n",
    "for _ in range(n):\n",
    "    inp = list(map(float,input().split()))\n",
    "    x.append(inp[:m])\n",
    "    y.append(inp[-1])\n",
    "\n",
    "from sklearn import linear_model\n",
    "lm = linear_model.LinearRegression()\n",
    "lm.fit(x, y)\n",
    "a = lm.intercept_\n",
    "b = lm.coef_\n",
    "\n",
    "q = int(input())\n",
    "for _ in range(q):\n",
    "    f = list(map(float,input().split()))\n",
    "    y_pred = a\n",
    "    for i in range(len(f)):\n",
    "        y_pred += f[i]*b[i]\n",
    "    print(round(y_pred,2))\n"
   ]
  }
 ],
 "metadata": {
  "kernelspec": {
   "display_name": "Python 3",
   "language": "python",
   "name": "python3"
  },
  "language_info": {
   "codemirror_mode": {
    "name": "ipython",
    "version": 3
   },
   "file_extension": ".py",
   "mimetype": "text/x-python",
   "name": "python",
   "nbconvert_exporter": "python",
   "pygments_lexer": "ipython3",
   "version": "3.7.6"
  }
 },
 "nbformat": 4,
 "nbformat_minor": 4
}
