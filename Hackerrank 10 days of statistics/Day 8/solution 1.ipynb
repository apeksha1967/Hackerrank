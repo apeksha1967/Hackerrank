{
 "cells": [
  {
   "cell_type": "code",
   "execution_count": null,
   "metadata": {},
   "outputs": [],
   "source": [
    "x = []\n",
    "y = []\n",
    "for _ in range(5):\n",
    "    inp = list(map(float,input().split()))\n",
    "    x.append(inp[0])\n",
    "    y.append(inp[1])\n",
    "\n",
    "n = len(x)\n",
    "mu_x = sum(x)/n\n",
    "mu_y = sum(y)/n\n",
    "\n",
    "def std(X,n,mu):\n",
    "    s = 0\n",
    "    for i in range(n):\n",
    "        s += (X[i]-mu)**2\n",
    "    std = (s/n)**0.5\n",
    "    return std\n",
    "\n",
    "# pearson correlation coefficient\n",
    "p = 0\n",
    "for i in range(n):\n",
    "    p += (x[i]-mu_x)*(y[i]-mu_y)\n",
    "p /= n*std(x,n,mu_x)*std(y,n,mu_y)\n",
    "\n",
    "b = p*std(y,len(y),mu_y)/std(x,len(x),mu_x)\n",
    "a = mu_y-b*mu_x\n",
    "\n",
    "y_pred = a+b*80\n",
    "print(round(y_pred,3))\n",
    "\n"
   ]
  }
 ],
 "metadata": {
  "kernelspec": {
   "display_name": "Python 3",
   "language": "python",
   "name": "python3"
  },
  "language_info": {
   "codemirror_mode": {
    "name": "ipython",
    "version": 3
   },
   "file_extension": ".py",
   "mimetype": "text/x-python",
   "name": "python",
   "nbconvert_exporter": "python",
   "pygments_lexer": "ipython3",
   "version": "3.7.6"
  }
 },
 "nbformat": 4,
 "nbformat_minor": 4
}
