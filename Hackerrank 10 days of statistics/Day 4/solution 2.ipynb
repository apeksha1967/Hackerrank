{
 "cells": [
  {
   "cell_type": "code",
   "execution_count": null,
   "metadata": {},
   "outputs": [],
   "source": [
    "# b(x>=3,n=6,p=0.5)\n",
    "# P(p) = O(p) / (1 + O(p)) = 1.09 / (1 + 1.09) = 0.521\n",
    "# b(x,n,p) = fact(n,x)*p^x*q*(n-x)\n",
    "input()\n",
    "\n",
    "def fact(n,x):\n",
    "    nf = 1\n",
    "    xf = 1\n",
    "    nxf = 1\n",
    "    for i in range(2,n+1):\n",
    "        nf *= i\n",
    "    for i in range(2,x+1):\n",
    "        xf *= i\n",
    "    for i in range(2,n-x+1):\n",
    "        nxf *= i\n",
    "    f = nf/(xf*nxf)\n",
    "    return f\n",
    "\n",
    "# def round_down(value, decimals):\n",
    "#     factor = 1 / (10 ** decimals)\n",
    "#     return (value // factor) * factor    \n",
    "\n",
    "def b(x,n,p):\n",
    "    q = 1-p\n",
    "    p = fact(n,x)*(p**x)*(q**(n-x))\n",
    "    return p\n",
    "\n",
    "p = 0.12\n",
    "P = 0\n",
    "for i in range(3):\n",
    "    P += b(i,10,p)\n",
    "\n",
    "print(round(P,3))\n",
    "\n",
    "P = 0\n",
    "for i in range(2,11):\n",
    "    P += b(i,10,p)\n",
    "\n",
    "print(round(P,3))\n"
   ]
  }
 ],
 "metadata": {
  "kernelspec": {
   "display_name": "Python 3",
   "language": "python",
   "name": "python3"
  },
  "language_info": {
   "codemirror_mode": {
    "name": "ipython",
    "version": 3
   },
   "file_extension": ".py",
   "mimetype": "text/x-python",
   "name": "python",
   "nbconvert_exporter": "python",
   "pygments_lexer": "ipython3",
   "version": "3.7.6"
  }
 },
 "nbformat": 4,
 "nbformat_minor": 4
}
