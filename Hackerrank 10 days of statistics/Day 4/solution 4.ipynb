{
 "cells": [
  {
   "cell_type": "code",
   "execution_count": null,
   "metadata": {},
   "outputs": [],
   "source": [
    "input()\n",
    "input()\n",
    "\n",
    "def g(n,p):\n",
    "    q = 1-p\n",
    "    x = (q**(n-1))*p\n",
    "    return x\n",
    "\n",
    "p = 1/3\n",
    "gp = 0\n",
    "for i in range(1,6):\n",
    "    gp += g(i,p)\n",
    "\n",
    "print(round(gp,3))\n"
   ]
  }
 ],
 "metadata": {
  "kernelspec": {
   "display_name": "Python 3",
   "language": "python",
   "name": "python3"
  },
  "language_info": {
   "codemirror_mode": {
    "name": "ipython",
    "version": 3
   },
   "file_extension": ".py",
   "mimetype": "text/x-python",
   "name": "python",
   "nbconvert_exporter": "python",
   "pygments_lexer": "ipython3",
   "version": "3.7.6"
  }
 },
 "nbformat": 4,
 "nbformat_minor": 4
}
