{
 "cells": [
  {
   "cell_type": "code",
   "execution_count": 1,
   "metadata": {},
   "outputs": [
    {
     "name": "stdout",
     "output_type": "stream",
     "text": [
      "44\n",
      "2\n"
     ]
    }
   ],
   "source": [
    "#!/bin/python3\n",
    "\n",
    "import math\n",
    "import os\n",
    "import random\n",
    "import re\n",
    "import sys\n",
    "\n",
    "\n",
    "\n",
    "if __name__ == '__main__':\n",
    "    n = int(input())\n",
    "    binary = []\n",
    "    def dtb(n):\n",
    "        if n > 1:\n",
    "            dtb(n // 2)\n",
    "        binary.append(n % 2)\n",
    "    dtb(n)\n",
    "    box = [0]\n",
    "    count = 0\n",
    "    for i in range(len(binary)):\n",
    "        if binary[i] == 1:\n",
    "            if count > 0:\n",
    "                count += 1\n",
    "                box.append(count)\n",
    "            else:\n",
    "                count = 1\n",
    "                box.append(count)\n",
    "        else:\n",
    "            count=0\n",
    "    print(max(box))"
   ]
  },
  {
   "cell_type": "code",
   "execution_count": null,
   "metadata": {},
   "outputs": [],
   "source": []
  }
 ],
 "metadata": {
  "kernelspec": {
   "display_name": "Python 3",
   "language": "python",
   "name": "python3"
  },
  "language_info": {
   "codemirror_mode": {
    "name": "ipython",
    "version": 3
   },
   "file_extension": ".py",
   "mimetype": "text/x-python",
   "name": "python",
   "nbconvert_exporter": "python",
   "pygments_lexer": "ipython3",
   "version": "3.7.3"
  }
 },
 "nbformat": 4,
 "nbformat_minor": 2
}
