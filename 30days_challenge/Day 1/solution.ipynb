{
 "cells": [
  {
   "cell_type": "code",
   "execution_count": 1,
   "metadata": {},
   "outputs": [
    {
     "name": "stdout",
     "output_type": "stream",
     "text": [
      "6\n",
      "3.4\n",
      "says hello!\n",
      "18\n",
      "7.4\n",
      "Hackerrank says hello!\n"
     ]
    }
   ],
   "source": [
    "i = 12\n",
    "d = 4.0\n",
    "s = 'Hackerrank '\n",
    "\n",
    "# Declare second integer, double, and String variables.\n",
    "j = int(input())\n",
    "e = round(float(input()),1)\n",
    "t = str(input())\n",
    "# Read and save an integer, double, and String to your variables.\n",
    "\n",
    "# Print the sum of both integer variables on a new line.\n",
    "print(i+j)\n",
    "print(d+e)\n",
    "print(s+t)\n",
    "# Print the sum of the double variables on a new line.\n",
    "\n",
    "# Concatenate and print the String variables on a new line\n",
    "# The 's' variable above should be printed first."
   ]
  },
  {
   "cell_type": "code",
   "execution_count": null,
   "metadata": {},
   "outputs": [],
   "source": []
  }
 ],
 "metadata": {
  "kernelspec": {
   "display_name": "Python 3",
   "language": "python",
   "name": "python3"
  },
  "language_info": {
   "codemirror_mode": {
    "name": "ipython",
    "version": 3
   },
   "file_extension": ".py",
   "mimetype": "text/x-python",
   "name": "python",
   "nbconvert_exporter": "python",
   "pygments_lexer": "ipython3",
   "version": "3.7.3"
  }
 },
 "nbformat": 4,
 "nbformat_minor": 2
}
