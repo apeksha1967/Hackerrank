{
 "cells": [
  {
   "cell_type": "code",
   "execution_count": 1,
   "metadata": {},
   "outputs": [
    {
     "name": "stdout",
     "output_type": "stream",
     "text": [
      "1\n",
      "2\n",
      "Prime\n"
     ]
    }
   ],
   "source": [
    "T = int(input())\n",
    "for j in range(T):\n",
    "    num = int(input())\n",
    "    if num > 1: \n",
    "        for i in range(2, int(num**0.5)+1): \n",
    "            if (num % i) == 0: \n",
    "                print(\"Not prime\") \n",
    "                break\n",
    "        else: \n",
    "            print(\"Prime\") \n",
    "    else: \n",
    "        print(\"Not prime\") "
   ]
  },
  {
   "cell_type": "code",
   "execution_count": null,
   "metadata": {},
   "outputs": [],
   "source": []
  }
 ],
 "metadata": {
  "kernelspec": {
   "display_name": "Python 3",
   "language": "python",
   "name": "python3"
  },
  "language_info": {
   "codemirror_mode": {
    "name": "ipython",
    "version": 3
   },
   "file_extension": ".py",
   "mimetype": "text/x-python",
   "name": "python",
   "nbconvert_exporter": "python",
   "pygments_lexer": "ipython3",
   "version": "3.7.3"
  }
 },
 "nbformat": 4,
 "nbformat_minor": 2
}
