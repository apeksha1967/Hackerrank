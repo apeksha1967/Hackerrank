{
 "cells": [
  {
   "cell_type": "code",
   "execution_count": 9,
   "metadata": {},
   "outputs": [
    {
     "name": "stdout",
     "output_type": "stream",
     "text": [
      "31 12 2009\n",
      "3 1 2010\n",
      "0\n"
     ]
    }
   ],
   "source": [
    "# Enter your code here. Read input from STDIN. Print output to STDOUT\n",
    "\n",
    "a = list(map(int, input().strip().split(' ')))\n",
    "b = list(map(int, input().strip().split(' ')))\n",
    "\n",
    "fine = 0\n",
    "\n",
    "if a[2] > b[2]:\n",
    "    fine = 10000\n",
    "elif a[2] == b[2]:\n",
    "    if a[1] > b[1]:\n",
    "        fine = (a[1] - b[1])*500\n",
    "    elif a[1] == b[1]:\n",
    "        if a[0] > b[0]:\n",
    "            fine = (a[0] - b[0])*15\n",
    "\n",
    "print(fine)"
   ]
  },
  {
   "cell_type": "code",
   "execution_count": null,
   "metadata": {},
   "outputs": [],
   "source": []
  }
 ],
 "metadata": {
  "kernelspec": {
   "display_name": "Python 3",
   "language": "python",
   "name": "python3"
  },
  "language_info": {
   "codemirror_mode": {
    "name": "ipython",
    "version": 3
   },
   "file_extension": ".py",
   "mimetype": "text/x-python",
   "name": "python",
   "nbconvert_exporter": "python",
   "pygments_lexer": "ipython3",
   "version": "3.7.3"
  }
 },
 "nbformat": 4,
 "nbformat_minor": 2
}
