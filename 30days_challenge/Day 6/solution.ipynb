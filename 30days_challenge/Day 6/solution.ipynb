{
 "cells": [
  {
   "cell_type": "code",
   "execution_count": 2,
   "metadata": {},
   "outputs": [
    {
     "name": "stdout",
     "output_type": "stream",
     "text": [
      "2\n",
      "hacker\n",
      "rank\n",
      "hce akr\n",
      "rn ak\n"
     ]
    }
   ],
   "source": [
    "# Enter your code here. Read input from STDIN. Print output to STDOUT\n",
    "T = int(input())\n",
    "seq = []\n",
    "for i in range(T):\n",
    "    test_seq = input()\n",
    "    seq.append(test_seq)\n",
    "for i in range(len(seq)):\n",
    "    even = []\n",
    "    odd = []\n",
    "    for j in range(len(seq[i])):\n",
    "        if j%2==0:\n",
    "            even.append(seq[i][j])\n",
    "        else:\n",
    "            odd.append(seq[i][j])\n",
    "    print(''.join(str(x) for x in even),''.join(str(y) for y in odd))\n"
   ]
  },
  {
   "cell_type": "code",
   "execution_count": null,
   "metadata": {},
   "outputs": [],
   "source": []
  }
 ],
 "metadata": {
  "kernelspec": {
   "display_name": "Python 3",
   "language": "python",
   "name": "python3"
  },
  "language_info": {
   "codemirror_mode": {
    "name": "ipython",
    "version": 3
   },
   "file_extension": ".py",
   "mimetype": "text/x-python",
   "name": "python",
   "nbconvert_exporter": "python",
   "pygments_lexer": "ipython3",
   "version": "3.7.3"
  }
 },
 "nbformat": 4,
 "nbformat_minor": 2
}
