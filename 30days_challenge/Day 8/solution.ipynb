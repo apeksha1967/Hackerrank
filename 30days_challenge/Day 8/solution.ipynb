{
 "cells": [
  {
   "cell_type": "code",
   "execution_count": null,
   "metadata": {},
   "outputs": [
    {
     "name": "stdout",
     "output_type": "stream",
     "text": [
      "1\n",
      "ele 1234\n",
      "ria\n",
      "\n",
      " \n",
      "\n"
     ]
    }
   ],
   "source": [
    "n = int(input());\n",
    "phonebook = {}\n",
    "\n",
    "for i in range(n):\n",
    "    a,b = input().split()\n",
    "    b = int(b)\n",
    "    phonebook[a] = b\n",
    "\n",
    "queries = []\n",
    "\n",
    "while True:\n",
    "    try:\n",
    "        query = input()\n",
    "        queries.append(query)\n",
    "    except Exception as e:\n",
    "        break\n",
    "\n",
    "for j in queries:\n",
    "    if j in phonebook.keys():\n",
    "        result = name+\"=\"+str(phonebook[j])\n",
    "    else:\n",
    "        result = \"Not found\"\n",
    "    \n",
    "    print(result)"
   ]
  },
  {
   "cell_type": "code",
   "execution_count": null,
   "metadata": {},
   "outputs": [],
   "source": []
  }
 ],
 "metadata": {
  "kernelspec": {
   "display_name": "Python 3",
   "language": "python",
   "name": "python3"
  },
  "language_info": {
   "codemirror_mode": {
    "name": "ipython",
    "version": 3
   },
   "file_extension": ".py",
   "mimetype": "text/x-python",
   "name": "python",
   "nbconvert_exporter": "python",
   "pygments_lexer": "ipython3",
   "version": "3.7.3"
  }
 },
 "nbformat": 4,
 "nbformat_minor": 2
}
