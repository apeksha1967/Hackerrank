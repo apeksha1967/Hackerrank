{
 "cells": [
  {
   "cell_type": "code",
   "execution_count": null,
   "metadata": {},
   "outputs": [],
   "source": [
    "def minimum_index(seq):\n",
    "    if len(seq) == 0:\n",
    "        raise ValueError(\"Cannot get the minimum value index from an empty sequence\")\n",
    "    min_idx = 0\n",
    "    for i in range(1, len(seq)):\n",
    "        if seq[i] < seq[min_idx]:\n",
    "            min_idx = i\n",
    "    return min_idx\n",
    "class TestDataEmptyArray():\n",
    "\n",
    "    @staticmethod\n",
    "    def get_array():\n",
    "        return list()\n",
    "\n",
    "class TestDataUniqueValues():\n",
    "\n",
    "    @staticmethod\n",
    "    def get_array():\n",
    "        return [5, 2, 8, 3, 1, -6, 9]\n",
    "\n",
    "    @staticmethod\n",
    "    def get_expected_result():\n",
    "        return 5\n",
    "\n",
    "class TestDataExactlyTwoDifferentMinimums():\n",
    "\n",
    "    @staticmethod\n",
    "    def get_array():\n",
    "        return [5, 2, 8, 3, 1, -6, 9, -6, 10]\n",
    "\n",
    "    @staticmethod\n",
    "    def get_expected_result():\n",
    "        return 5\n",
    "\n"
   ]
  }
 ],
 "metadata": {
  "kernelspec": {
   "display_name": "Python 3",
   "language": "python",
   "name": "python3"
  },
  "language_info": {
   "codemirror_mode": {
    "name": "ipython",
    "version": 3
   },
   "file_extension": ".py",
   "mimetype": "text/x-python",
   "name": "python",
   "nbconvert_exporter": "python",
   "pygments_lexer": "ipython3",
   "version": "3.7.3"
  }
 },
 "nbformat": 4,
 "nbformat_minor": 2
}
