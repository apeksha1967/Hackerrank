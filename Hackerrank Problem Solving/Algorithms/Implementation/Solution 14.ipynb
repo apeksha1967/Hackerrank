{
 "cells": [
  {
   "cell_type": "code",
   "execution_count": null,
   "metadata": {},
   "outputs": [],
   "source": [
    "#!/bin/python3\n",
    "\n",
    "import os\n",
    "import sys\n",
    "\n",
    "#\n",
    "# Complete the getMoneySpent function below.\n",
    "#\n",
    "def getMoneySpent(keyboards, drives, b):\n",
    "    pair=[]\n",
    "    for i in keyboards:\n",
    "        for j in drives:\n",
    "            if i+j<=b:\n",
    "                pair.append(i+j)\n",
    "    if len(pair)>0:\n",
    "        return max(pair)\n",
    "    else:\n",
    "        return -1\n",
    "    #\n",
    "    # Write your code here.\n",
    "    #\n",
    "\n",
    "if __name__ == '__main__':\n",
    "    fptr = open(os.environ['OUTPUT_PATH'], 'w')\n",
    "\n",
    "    bnm = input().split()\n",
    "\n",
    "    b = int(bnm[0])\n",
    "\n",
    "    n = int(bnm[1])\n",
    "\n",
    "    m = int(bnm[2])\n",
    "\n",
    "    keyboards = list(map(int, input().rstrip().split()))\n",
    "\n",
    "    drives = list(map(int, input().rstrip().split()))\n",
    "\n",
    "    #\n",
    "    # The maximum amount of money she can spend on a keyboard and USB drive, or -1 if she can't purchase both items\n",
    "    #\n",
    "\n",
    "    moneySpent = getMoneySpent(keyboards, drives, b)\n",
    "\n",
    "    fptr.write(str(moneySpent) + '\\n')\n",
    "\n",
    "    fptr.close()\n"
   ]
  }
 ],
 "metadata": {
  "kernelspec": {
   "display_name": "Python 3",
   "language": "python",
   "name": "python3"
  },
  "language_info": {
   "codemirror_mode": {
    "name": "ipython",
    "version": 3
   },
   "file_extension": ".py",
   "mimetype": "text/x-python",
   "name": "python",
   "nbconvert_exporter": "python",
   "pygments_lexer": "ipython3",
   "version": "3.7.6"
  }
 },
 "nbformat": 4,
 "nbformat_minor": 4
}
