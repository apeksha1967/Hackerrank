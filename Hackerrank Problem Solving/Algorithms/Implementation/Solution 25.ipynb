{
 "cells": [
  {
   "cell_type": "code",
   "execution_count": null,
   "metadata": {},
   "outputs": [],
   "source": [
    "#!/bin/python3\n",
    "\n",
    "import math\n",
    "import os\n",
    "import random\n",
    "import re\n",
    "import sys\n",
    "\n",
    "# Complete the saveThePrisoner function below.\n",
    "def saveThePrisoner(n, m, s):\n",
    "    if s + m < n:\n",
    "        return(s + m - 1)\n",
    "    else:\n",
    "        if (s+m - 1) % n == 0:\n",
    "            return(n)\n",
    "        else:\n",
    "            return((s+m - 1) % n)\n",
    "\n",
    "if __name__ == '__main__':\n",
    "    fptr = open(os.environ['OUTPUT_PATH'], 'w')\n",
    "\n",
    "    t = int(input())\n",
    "\n",
    "    for t_itr in range(t):\n",
    "        nms = input().split()\n",
    "\n",
    "        n = int(nms[0])\n",
    "\n",
    "        m = int(nms[1])\n",
    "\n",
    "        s = int(nms[2])\n",
    "\n",
    "        result = saveThePrisoner(n, m, s)\n",
    "\n",
    "        fptr.write(str(result) + '\\n')\n",
    "\n",
    "    fptr.close()\n"
   ]
  }
 ],
 "metadata": {
  "kernelspec": {
   "display_name": "Python 3",
   "language": "python",
   "name": "python3"
  },
  "language_info": {
   "codemirror_mode": {
    "name": "ipython",
    "version": 3
   },
   "file_extension": ".py",
   "mimetype": "text/x-python",
   "name": "python",
   "nbconvert_exporter": "python",
   "pygments_lexer": "ipython3",
   "version": "3.7.6"
  }
 },
 "nbformat": 4,
 "nbformat_minor": 4
}
