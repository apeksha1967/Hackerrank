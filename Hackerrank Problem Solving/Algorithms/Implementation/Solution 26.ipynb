{
 "cells": [
  {
   "cell_type": "code",
   "execution_count": null,
   "metadata": {},
   "outputs": [],
   "source": [
    "N,K,Q = [int(_) for _ in input().split()]\n",
    "array =  [int(_) for _ in input().split()]\n",
    "for i in range(K):\n",
    "    n =  array.pop()\n",
    "    array.insert(0,n)\n",
    "for i in range(Q):\n",
    "    k = int(input())\n",
    "    print(array[k])\n"
   ]
  }
 ],
 "metadata": {
  "kernelspec": {
   "display_name": "Python 3",
   "language": "python",
   "name": "python3"
  },
  "language_info": {
   "codemirror_mode": {
    "name": "ipython",
    "version": 3
   },
   "file_extension": ".py",
   "mimetype": "text/x-python",
   "name": "python",
   "nbconvert_exporter": "python",
   "pygments_lexer": "ipython3",
   "version": "3.7.6"
  }
 },
 "nbformat": 4,
 "nbformat_minor": 4
}
