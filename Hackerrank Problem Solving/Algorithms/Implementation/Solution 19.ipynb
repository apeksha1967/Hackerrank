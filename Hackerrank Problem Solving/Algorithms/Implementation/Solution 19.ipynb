{
 "cells": [
  {
   "cell_type": "code",
   "execution_count": null,
   "metadata": {},
   "outputs": [],
   "source": [
    "#!/bin/python3\n",
    "\n",
    "import math\n",
    "import os\n",
    "import random\n",
    "import re\n",
    "import sys\n",
    "\n",
    "# Complete the hurdleRace function below.\n",
    "def hurdleRace(k, height):\n",
    "    dose = max(height)-k\n",
    "    if dose > 0:\n",
    "        return dose\n",
    "    else:\n",
    "        return 0\n",
    "\n",
    "if __name__ == '__main__':\n",
    "    fptr = open(os.environ['OUTPUT_PATH'], 'w')\n",
    "\n",
    "    nk = input().split()\n",
    "\n",
    "    n = int(nk[0])\n",
    "\n",
    "    k = int(nk[1])\n",
    "\n",
    "    height = list(map(int, input().rstrip().split()))\n",
    "\n",
    "    result = hurdleRace(k, height)\n",
    "\n",
    "    fptr.write(str(result) + '\\n')\n",
    "\n",
    "    fptr.close()\n"
   ]
  }
 ],
 "metadata": {
  "kernelspec": {
   "display_name": "Python 3",
   "language": "python",
   "name": "python3"
  },
  "language_info": {
   "codemirror_mode": {
    "name": "ipython",
    "version": 3
   },
   "file_extension": ".py",
   "mimetype": "text/x-python",
   "name": "python",
   "nbconvert_exporter": "python",
   "pygments_lexer": "ipython3",
   "version": "3.7.6"
  }
 },
 "nbformat": 4,
 "nbformat_minor": 4
}
