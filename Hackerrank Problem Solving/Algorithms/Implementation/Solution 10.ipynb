{
 "cells": [
  {
   "cell_type": "code",
   "execution_count": null,
   "metadata": {},
   "outputs": [],
   "source": [
    "#!/bin/python3\n",
    "\n",
    "import math\n",
    "import os\n",
    "import random\n",
    "import re\n",
    "import sys\n",
    "\n",
    "# Complete the bonAppetit function below.\n",
    "def bonAppetit(bill, k, b):\n",
    "    bill.pop(k)\n",
    "    share = sum(bill)/2\n",
    "    if b == share:\n",
    "        print(\"Bon Appetit\")\n",
    "    else:\n",
    "        print(int(b-share))\n",
    "\n",
    "if __name__ == '__main__':\n",
    "    nk = input().rstrip().split()\n",
    "\n",
    "    n = int(nk[0])\n",
    "\n",
    "    k = int(nk[1])\n",
    "\n",
    "    bill = list(map(int, input().rstrip().split()))\n",
    "\n",
    "    b = int(input().strip())\n",
    "\n",
    "    bonAppetit(bill, k, b)\n"
   ]
  }
 ],
 "metadata": {
  "kernelspec": {
   "display_name": "Python 3",
   "language": "python",
   "name": "python3"
  },
  "language_info": {
   "codemirror_mode": {
    "name": "ipython",
    "version": 3
   },
   "file_extension": ".py",
   "mimetype": "text/x-python",
   "name": "python",
   "nbconvert_exporter": "python",
   "pygments_lexer": "ipython3",
   "version": "3.7.6"
  }
 },
 "nbformat": 4,
 "nbformat_minor": 4
}
