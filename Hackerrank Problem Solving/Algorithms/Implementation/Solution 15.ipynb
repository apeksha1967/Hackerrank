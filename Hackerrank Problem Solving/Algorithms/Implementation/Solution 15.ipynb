{
 "cells": [
  {
   "cell_type": "code",
   "execution_count": null,
   "metadata": {},
   "outputs": [],
   "source": [
    "#!/bin/python3\n",
    "\n",
    "import math\n",
    "import os\n",
    "import random\n",
    "import re\n",
    "import sys\n",
    "\n",
    "# Complete the catAndMouse function below.\n",
    "def catAndMouse(x, y, z):\n",
    "    if abs(x-z)==abs(y-z):\n",
    "        return (\"Mouse C\")\n",
    "    else:\n",
    "        if abs(x-z)>abs(y-z):\n",
    "            return (\"Cat B\")\n",
    "        else:\n",
    "            return (\"Cat A\")\n",
    "\n",
    "if __name__ == '__main__':\n",
    "    fptr = open(os.environ['OUTPUT_PATH'], 'w')\n",
    "\n",
    "    q = int(input())\n",
    "\n",
    "    for q_itr in range(q):\n",
    "        xyz = input().split()\n",
    "\n",
    "        x = int(xyz[0])\n",
    "\n",
    "        y = int(xyz[1])\n",
    "\n",
    "        z = int(xyz[2])\n",
    "\n",
    "        result = catAndMouse(x, y, z)\n",
    "\n",
    "        fptr.write(result + '\\n')\n",
    "\n",
    "    fptr.close()\n"
   ]
  }
 ],
 "metadata": {
  "kernelspec": {
   "display_name": "Python 3",
   "language": "python",
   "name": "python3"
  },
  "language_info": {
   "codemirror_mode": {
    "name": "ipython",
    "version": 3
   },
   "file_extension": ".py",
   "mimetype": "text/x-python",
   "name": "python",
   "nbconvert_exporter": "python",
   "pygments_lexer": "ipython3",
   "version": "3.7.6"
  }
 },
 "nbformat": 4,
 "nbformat_minor": 4
}
