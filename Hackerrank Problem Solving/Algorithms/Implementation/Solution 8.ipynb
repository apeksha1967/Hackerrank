{
 "cells": [
  {
   "cell_type": "code",
   "execution_count": null,
   "metadata": {},
   "outputs": [],
   "source": [
    "#!/bin/python3\n",
    "\n",
    "import math\n",
    "import os\n",
    "import random\n",
    "import re\n",
    "import sys\n",
    "from collections import Counter\n",
    "\n",
    "# Complete the migratoryBirds function below.\n",
    "def migratoryBirds(arr):\n",
    "    count = Counter(arr)\n",
    "    # count = sorted(count.items(),reverse=True)\n",
    "    # print(count.elements())\n",
    "    count = sorted([(j,i) for i,j in count.items()], reverse=True)\n",
    "    print(count)\n",
    "    k_max = count[0][0]\n",
    "    m=[]\n",
    "    for i,j in count:\n",
    "        if i==k_max:\n",
    "            m.append(j)\n",
    "    m=sorted(m)\n",
    "    return m[0]\n",
    "\n",
    "\n",
    "    # print(count)\n",
    "    # print([(j,i) for i,j in count.items()])\n",
    "    # [m.append(l) for k,l in sorted([(j,i) for i,j in count.items()], reverse=True)]\n",
    "    # return m[0]\n",
    "\n",
    "if __name__ == '__main__':\n",
    "    fptr = open(os.environ['OUTPUT_PATH'], 'w')\n",
    "\n",
    "    arr_count = int(input().strip())\n",
    "\n",
    "    arr = list(map(int, input().rstrip().split()))\n",
    "\n",
    "    result = migratoryBirds(arr)\n",
    "\n",
    "    fptr.write(str(result) + '\\n')\n",
    "\n",
    "    fptr.close()\n"
   ]
  }
 ],
 "metadata": {
  "kernelspec": {
   "display_name": "Python 3",
   "language": "python",
   "name": "python3"
  },
  "language_info": {
   "codemirror_mode": {
    "name": "ipython",
    "version": 3
   },
   "file_extension": ".py",
   "mimetype": "text/x-python",
   "name": "python",
   "nbconvert_exporter": "python",
   "pygments_lexer": "ipython3",
   "version": "3.7.6"
  }
 },
 "nbformat": 4,
 "nbformat_minor": 4
}
