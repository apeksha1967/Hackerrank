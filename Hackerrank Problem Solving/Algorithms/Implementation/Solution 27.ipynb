{
 "cells": [
  {
   "cell_type": "code",
   "execution_count": null,
   "metadata": {},
   "outputs": [],
   "source": [
    "#!/bin/python3\n",
    "\n",
    "import math\n",
    "import os\n",
    "import random\n",
    "import re\n",
    "import sys\n",
    "\n",
    "# Complete the permutationEquation function below.\n",
    "def secondkey(a):\n",
    "    return a[1]\n",
    "\n",
    "def permutationEquation(p):\n",
    "    arr = []\n",
    "    arr_2 = []\n",
    "    for i in p:\n",
    "        arr.append((i,p[p[i-1]-1]))\n",
    "    arr.sort(key=secondkey)\n",
    "    for i,j in arr:\n",
    "        arr_2.append(i)\n",
    "    return arr_2\n",
    "\n",
    "if __name__ == '__main__':\n",
    "    fptr = open(os.environ['OUTPUT_PATH'], 'w')\n",
    "\n",
    "    n = int(input())\n",
    "\n",
    "    p = list(map(int, input().rstrip().split()))\n",
    "\n",
    "    result = permutationEquation(p)\n",
    "\n",
    "    fptr.write('\\n'.join(map(str, result)))\n",
    "    fptr.write('\\n')\n",
    "\n",
    "    fptr.close()\n"
   ]
  }
 ],
 "metadata": {
  "kernelspec": {
   "display_name": "Python 3",
   "language": "python",
   "name": "python3"
  },
  "language_info": {
   "codemirror_mode": {
    "name": "ipython",
    "version": 3
   },
   "file_extension": ".py",
   "mimetype": "text/x-python",
   "name": "python",
   "nbconvert_exporter": "python",
   "pygments_lexer": "ipython3",
   "version": "3.7.6"
  }
 },
 "nbformat": 4,
 "nbformat_minor": 4
}
