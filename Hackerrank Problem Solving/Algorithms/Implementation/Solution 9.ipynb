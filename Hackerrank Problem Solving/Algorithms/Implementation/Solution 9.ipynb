{
 "cells": [
  {
   "cell_type": "code",
   "execution_count": null,
   "metadata": {},
   "outputs": [],
   "source": [
    "#!/bin/python3\n",
    "\n",
    "import math\n",
    "import os\n",
    "import random\n",
    "import re\n",
    "import sys\n",
    "\n",
    "# Complete the dayOfProgrammer function below.\n",
    "def dayOfProgrammer(year):\n",
    "    if year%4==0:\n",
    "        if year<1918:\n",
    "            return(\"12.09.\"+str(year))\n",
    "        else:\n",
    "            if year%100!=0 or year%400==0:\n",
    "                return (\"12.09.\"+str(year))\n",
    "            else:\n",
    "                return(\"13.09.\"+str(year))\n",
    "    elif year==1918:\n",
    "        return(\"26.09.\"+str(year))\n",
    "\n",
    "    else:\n",
    "        return(\"13.09.\"+str(year))\n",
    "\n",
    "if __name__ == '__main__':\n",
    "    fptr = open(os.environ['OUTPUT_PATH'], 'w')\n",
    "\n",
    "    year = int(input().strip())\n",
    "\n",
    "    result = dayOfProgrammer(year)\n",
    "\n",
    "    fptr.write(result + '\\n')\n",
    "\n",
    "    fptr.close()\n"
   ]
  }
 ],
 "metadata": {
  "kernelspec": {
   "display_name": "Python 3",
   "language": "python",
   "name": "python3"
  },
  "language_info": {
   "codemirror_mode": {
    "name": "ipython",
    "version": 3
   },
   "file_extension": ".py",
   "mimetype": "text/x-python",
   "name": "python",
   "nbconvert_exporter": "python",
   "pygments_lexer": "ipython3",
   "version": "3.7.6"
  }
 },
 "nbformat": 4,
 "nbformat_minor": 4
}
