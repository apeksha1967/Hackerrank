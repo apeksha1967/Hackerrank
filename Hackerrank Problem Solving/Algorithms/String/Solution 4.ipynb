{
 "cells": [
  {
   "cell_type": "code",
   "execution_count": null,
   "metadata": {},
   "outputs": [],
   "source": [
    "#!/bin/python3\n",
    "\n",
    "import math\n",
    "import os\n",
    "import random\n",
    "import re\n",
    "import sys\n",
    "import itertools\n",
    "\n",
    "# Complete the alternate function below.\n",
    "def alternate(s):\n",
    "    results=[]\n",
    "    st=list(set(s))\n",
    "    if len(st)<2:\n",
    "        return 0\n",
    "    else:\n",
    "        combos=list(itertools.combinations(st,len(st)-2))\n",
    "        print(combos)\n",
    "        for i in combos:\n",
    "            vals=[]\n",
    "            temp=s\n",
    "            for x in i:\n",
    "                temp=temp.replace(x,\"\")\n",
    "            print(temp)    \n",
    "            for y in range(len(temp)-1):\n",
    "                if temp[y]==temp[y+1]:\n",
    "                    vals.append(False)\n",
    "                else:\n",
    "                    vals.append(True)\n",
    "            if all(vals)==True:\n",
    "                results.append(len(temp))\n",
    "            else:\n",
    "                results.append(0)\n",
    "\n",
    "    return max(results)\n",
    "\n",
    "if __name__ == '__main__':\n",
    "    fptr = open(os.environ['OUTPUT_PATH'], 'w')\n",
    "\n",
    "    l = int(input().strip())\n",
    "\n",
    "    s = input()\n",
    "\n",
    "    result = alternate(s)\n",
    "\n",
    "    fptr.write(str(result) + '\\n')\n",
    "\n",
    "    fptr.close()\n"
   ]
  }
 ],
 "metadata": {
  "kernelspec": {
   "display_name": "Python 3",
   "language": "python",
   "name": "python3"
  },
  "language_info": {
   "codemirror_mode": {
    "name": "ipython",
    "version": 3
   },
   "file_extension": ".py",
   "mimetype": "text/x-python",
   "name": "python",
   "nbconvert_exporter": "python",
   "pygments_lexer": "ipython3",
   "version": "3.7.6"
  }
 },
 "nbformat": 4,
 "nbformat_minor": 4
}
