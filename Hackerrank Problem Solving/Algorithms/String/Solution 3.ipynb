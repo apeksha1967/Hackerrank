{
 "cells": [
  {
   "cell_type": "code",
   "execution_count": null,
   "metadata": {},
   "outputs": [],
   "source": [
    "#!/bin/python3\n",
    "\n",
    "import math\n",
    "import os\n",
    "import random\n",
    "import re\n",
    "import sys\n",
    "\n",
    "# Complete the minimumNumber function below.\n",
    "def minimumNumber(n, password):\n",
    "    if n<4:\n",
    "        return 6-n\n",
    "    else:\n",
    "        special_characters = \"!@#$%^&*()-+\"\n",
    "        u_s = bool(any(char.isupper() for char in password))\n",
    "        l_s = bool(any(char.islower() for char in password))\n",
    "        d_s = bool(any(char.isdigit() for char in password))\n",
    "        s_s = bool(any(char in password for char in special_characters))\n",
    "        x = 4-sum([u_s,l_s,d_s,s_s])\n",
    "        if n+x>=6:\n",
    "            return x\n",
    "        else:\n",
    "            return 6-n\n",
    "        \n",
    "if __name__ == '__main__':\n",
    "    fptr = open(os.environ['OUTPUT_PATH'], 'w')\n",
    "\n",
    "    n = int(input())\n",
    "\n",
    "    password = input()\n",
    "\n",
    "    answer = minimumNumber(n, password)\n",
    "\n",
    "    fptr.write(str(answer) + '\\n')\n",
    "\n",
    "    fptr.close()\n"
   ]
  }
 ],
 "metadata": {
  "kernelspec": {
   "display_name": "Python 3",
   "language": "python",
   "name": "python3"
  },
  "language_info": {
   "codemirror_mode": {
    "name": "ipython",
    "version": 3
   },
   "file_extension": ".py",
   "mimetype": "text/x-python",
   "name": "python",
   "nbconvert_exporter": "python",
   "pygments_lexer": "ipython3",
   "version": "3.7.6"
  }
 },
 "nbformat": 4,
 "nbformat_minor": 4
}
