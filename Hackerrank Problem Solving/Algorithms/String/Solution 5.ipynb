{
 "cells": [
  {
   "cell_type": "code",
   "execution_count": null,
   "metadata": {},
   "outputs": [],
   "source": [
    "_,s,k = input(),input(), int(input())\n",
    "def cipher(c):\n",
    "    num = ord(c)\n",
    "    if 97 <= num <= 122:\n",
    "        return chr(((num-97+k)%26)+97)\n",
    "    elif 65 <= num <= 90:\n",
    "        return chr(((num-65+k)%26)+65)\n",
    "    else: return c\n",
    "print(*[cipher(c) for c in s],sep='')\n"
   ]
  }
 ],
 "metadata": {
  "kernelspec": {
   "display_name": "Python 3",
   "language": "python",
   "name": "python3"
  },
  "language_info": {
   "codemirror_mode": {
    "name": "ipython",
    "version": 3
   },
   "file_extension": ".py",
   "mimetype": "text/x-python",
   "name": "python",
   "nbconvert_exporter": "python",
   "pygments_lexer": "ipython3",
   "version": "3.7.6"
  }
 },
 "nbformat": 4,
 "nbformat_minor": 4
}
