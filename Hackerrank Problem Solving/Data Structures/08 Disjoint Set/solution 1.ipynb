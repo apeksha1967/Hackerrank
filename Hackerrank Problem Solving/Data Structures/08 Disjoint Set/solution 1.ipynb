{
 "cells": [
  {
   "cell_type": "code",
   "execution_count": null,
   "metadata": {},
   "outputs": [],
   "source": [
    "N, Q = tuple(map(int, input().split(' ')))\n",
    "\n",
    "dict_one = dict()\n",
    "dict_two = dict()\n",
    "\n",
    "for i in range(N):\n",
    "    dict_one[i] = str(i)\n",
    "    dict_two[str(i)] = [i]\n",
    "\n",
    "for q in range(Q):\n",
    "    command = input().split(' ')\n",
    "    if command[0] == 'Q':\n",
    "        I = int(command[1]) - 1\n",
    "        community = dict_one[I]\n",
    "        print(len(dict_two[community]))\n",
    "    else:\n",
    "        #command[0] == M, M I J\n",
    "        I, J = int(command[1]) - 1, int(command[2]) - 1\n",
    "        com1, com2 = dict_one[I], dict_one[J]\n",
    "        if com1 != com2:\n",
    "            x, y = dict_two[com1], dict_two[com2]\n",
    "            if len(x) > len(y):\n",
    "                x, y = y, x\n",
    "                com1, com2 = com2, com1\n",
    "            for k in x:\n",
    "                dict_one[k] = com2\n",
    "            y.extend(x)\n",
    "            del dict_two[com1]\n"
   ]
  }
 ],
 "metadata": {
  "kernelspec": {
   "display_name": "Python 3",
   "language": "python",
   "name": "python3"
  },
  "language_info": {
   "codemirror_mode": {
    "name": "ipython",
    "version": 3
   },
   "file_extension": ".py",
   "mimetype": "text/x-python",
   "name": "python",
   "nbconvert_exporter": "python",
   "pygments_lexer": "ipython3",
   "version": "3.7.6"
  }
 },
 "nbformat": 4,
 "nbformat_minor": 4
}
