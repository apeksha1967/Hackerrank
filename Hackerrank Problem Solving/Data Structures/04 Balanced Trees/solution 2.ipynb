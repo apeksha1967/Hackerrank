{
 "cells": [
  {
   "cell_type": "code",
   "execution_count": null,
   "metadata": {},
   "outputs": [],
   "source": [
    "sz, numops = [int(n) for n in input().split()]\n",
    "arr = [int(n) for n in input().split()]\n",
    "str = ''.join(chr(n+96) for n in arr)\n",
    "# print(str)\n",
    "for i in range(numops):\n",
    "    # print(i)\n",
    "    inp = [int(n) for n in input().split()]\n",
    "    # print(\"inp:\",inp)\n",
    "    start = inp[1]\n",
    "    end = inp[2]\n",
    "    if (inp[0] == 1):\n",
    "        if (start > 1):\n",
    "            str = str[start - 1: end] + str[0: start - 1] + str[end:] \n",
    "        else:\n",
    "            str = str[0:end] + str[end:]\n",
    "    else:\n",
    "        if (start > 1):\n",
    "            str = str[0: start - 1] + str[end:] + str[start - 1: end]\n",
    "        else:\n",
    "            str = str[end:] + str[0:end]\n",
    "    # print(str)        \n",
    "    # print(\"!!!\")\n",
    "\n",
    "# print(\"start:\",str[0])\n",
    "# print(\"end:\",str[-1])\n",
    "# print(\"start:\",ord(str[0]))\n",
    "# print(\"end:\",ord(str[-1]))\n",
    "start = ord(str[0]) - 96\n",
    "end = ord(str[-1]) - 96\n",
    "# print(\"start:\",start)\n",
    "# print(\"end:\",end)\n",
    "print(abs(start-end))\n",
    "for i in range(sz): print(ord(str[i]) - 96, end = ' ')\n"
   ]
  }
 ],
 "metadata": {
  "kernelspec": {
   "display_name": "Python 3",
   "language": "python",
   "name": "python3"
  },
  "language_info": {
   "codemirror_mode": {
    "name": "ipython",
    "version": 3
   },
   "file_extension": ".py",
   "mimetype": "text/x-python",
   "name": "python",
   "nbconvert_exporter": "python",
   "pygments_lexer": "ipython3",
   "version": "3.7.6"
  }
 },
 "nbformat": 4,
 "nbformat_minor": 4
}
