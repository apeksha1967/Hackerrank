{
 "cells": [
  {
   "cell_type": "code",
   "execution_count": null,
   "metadata": {},
   "outputs": [],
   "source": [
    "#!/bin/python\n",
    "import bisect\n",
    "\n",
    "def median(a,x):\n",
    "    lst = []\n",
    "    for i in range(len(a)):\n",
    "        if a[i] == 'a':\n",
    "            bisect.insort_left(lst,x[i])\n",
    "            if len(lst) % 2 == 1:\n",
    "                print(lst[len(lst) // 2]) #middle element\n",
    "            else:\n",
    "                average = (lst[len(lst) // 2] + lst[len(lst) // 2 - 1]) / 2.0\n",
    "                print(str(average).rstrip('0').rstrip('.'))\n",
    "            \n",
    "        elif a[i] == 'r':\n",
    "            if x[i] not in lst:\n",
    "                print(\"Wrong!\")\n",
    "            else:\n",
    "                del lst[bisect.bisect_left(lst,x[i])]\n",
    "           \n",
    "                if len(lst) == 0:\n",
    "                    print('Wrong!')\n",
    "                    continue\n",
    "                if len(lst) % 2 == 1:\n",
    "                    print(lst[len(lst) // 2])\n",
    "                else:\n",
    "                    average = (lst[len(lst) // 2] + lst[len(lst) // 2 - 1]) / 2.0\n",
    "                    print(str(average).rstrip('0').rstrip('.'))\n",
    "\n",
    "N = int(input())\n",
    "s = []\n",
    "x = []\n",
    "for i in range(0, N):\n",
    "   tmp = input().strip().split(' ')\n",
    "   a, b = [xx for xx in tmp]\n",
    "   s.append(a)\n",
    "   x.append(int(b))\n",
    "median(s,x)\n"
   ]
  }
 ],
 "metadata": {
  "kernelspec": {
   "display_name": "Python 3",
   "language": "python",
   "name": "python3"
  },
  "language_info": {
   "codemirror_mode": {
    "name": "ipython",
    "version": 3
   },
   "file_extension": ".py",
   "mimetype": "text/x-python",
   "name": "python",
   "nbconvert_exporter": "python",
   "pygments_lexer": "ipython3",
   "version": "3.7.6"
  }
 },
 "nbformat": 4,
 "nbformat_minor": 4
}
