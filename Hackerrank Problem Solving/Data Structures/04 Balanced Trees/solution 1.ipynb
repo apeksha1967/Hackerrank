{
 "cells": [
  {
   "cell_type": "code",
   "execution_count": null,
   "metadata": {},
   "outputs": [],
   "source": [
    "/* Node is defined as :\n",
    "typedef struct node\n",
    "{\n",
    "    int val;\n",
    "    struct node* left;\n",
    "    struct node* right;\n",
    "    int ht;\n",
    "} node; */\n",
    "\n",
    "\n",
    "node * insert(node * T,int x)\n",
    "{\n",
    "    if (T == NULL)\n",
    "    {\n",
    "        T = (node*)malloc(sizeof(node));\n",
    "        T->val = x;\n",
    "        T->left = NULL;\n",
    "        T->right = NULL;\n",
    "    }\n",
    "    else if (x > T->val)\n",
    "    {\n",
    "        T->right = insert_hidden(T->right, x);\n",
    "        if (BF_hidden(T) == -2)\n",
    "        {\n",
    "            if (x > T->right->val)\n",
    "            {\n",
    "                T = RR_hidden(T);\n",
    "            }\n",
    "            else\n",
    "            {\n",
    "                T = RL_hidden(T);\n",
    "            }\n",
    "        }\n",
    "    }\n",
    "    else if (x < T->val)\n",
    "    {\n",
    "        T->left = insert_hidden(T->left, x);\n",
    "        if (BF_hidden(T) == 2){\n",
    "            if (x < T->left->val)\n",
    "            {\n",
    "                T = LL_hidden(T);\n",
    "            }\n",
    "            else\n",
    "            {\n",
    "                T = LR_hidden(T);\n",
    "            }\n",
    "        }\n",
    "    }\n",
    "    T->ht = ht_hidden(T);\n",
    "    return(T);\n",
    "   \n",
    "  \n",
    "}"
   ]
  }
 ],
 "metadata": {
  "kernelspec": {
   "display_name": "Python 3",
   "language": "python",
   "name": "python3"
  },
  "language_info": {
   "codemirror_mode": {
    "name": "ipython",
    "version": 3
   },
   "file_extension": ".py",
   "mimetype": "text/x-python",
   "name": "python",
   "nbconvert_exporter": "python",
   "pygments_lexer": "ipython3",
   "version": "3.7.6"
  }
 },
 "nbformat": 4,
 "nbformat_minor": 4
}
