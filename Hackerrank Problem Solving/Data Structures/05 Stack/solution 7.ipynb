{
 "cells": [
  {
   "cell_type": "code",
   "execution_count": null,
   "metadata": {},
   "outputs": [],
   "source": [
    "#!/bin/python3\n",
    "\n",
    "import math\n",
    "import os\n",
    "import random\n",
    "import re\n",
    "import sys\n",
    "\n",
    "# Complete the poisonousPlants function below.\n",
    "def poisonousPlants(p):\n",
    "    stack = []\n",
    "    maxDays = -math.inf\n",
    "    for plant in p:\n",
    "        days = 1\n",
    "        while stack and stack[-1][0] >= plant:\n",
    "            _, d = stack.pop()\n",
    "            days = max(days, d + 1)\n",
    "        if not stack:\n",
    "            days = 0\n",
    "        maxDays = max(maxDays, days)\n",
    "        stack.append((plant, days))\n",
    "    return maxDays\n",
    "\n",
    "if __name__ == '__main__':\n",
    "    fptr = open(os.environ['OUTPUT_PATH'], 'w')\n",
    "\n",
    "    n = int(input())\n",
    "\n",
    "    p = list(map(int, input().rstrip().split()))\n",
    "\n",
    "    result = poisonousPlants(p)\n",
    "\n",
    "    fptr.write(str(result) + '\\n')\n",
    "\n",
    "    fptr.close()\n"
   ]
  }
 ],
 "metadata": {
  "kernelspec": {
   "display_name": "Python 3",
   "language": "python",
   "name": "python3"
  },
  "language_info": {
   "codemirror_mode": {
    "name": "ipython",
    "version": 3
   },
   "file_extension": ".py",
   "mimetype": "text/x-python",
   "name": "python",
   "nbconvert_exporter": "python",
   "pygments_lexer": "ipython3",
   "version": "3.7.6"
  }
 },
 "nbformat": 4,
 "nbformat_minor": 4
}
