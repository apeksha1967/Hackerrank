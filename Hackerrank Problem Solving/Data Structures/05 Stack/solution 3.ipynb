{
 "cells": [
  {
   "cell_type": "code",
   "execution_count": null,
   "metadata": {},
   "outputs": [],
   "source": [
    "stacks = input()\n",
    "stack_1 = [int(i) for i in input().split()][::-1]\n",
    "stack_2 = [int(i) for i in input().split()][::-1]\n",
    "stack_3 = [int(i) for i in input().split()][::-1]\n",
    "\n",
    "s1 = sum(stack_1)\n",
    "s2 = sum(stack_2)\n",
    "s3 = sum(stack_3)\n",
    "\n",
    "while (not(s1 == s2 and s2 == s3)):\n",
    "    h = [s1, s2, s3]\n",
    "    m = h.index(max(h))\n",
    "    if m == 0:\n",
    "        s1 -= stack_1.pop()\n",
    "    elif m == 1:\n",
    "        s2 -= stack_2.pop()\n",
    "    else:\n",
    "        s3 -= stack_3.pop()\n",
    "print(s1)\n",
    "# stacks = [int(i) for i in input().split()]\n",
    "# stack1 = [int(i) for i in input().split()][::-1]\n",
    "# stack2 = [int(i) for i in input().split()][::-1]\n",
    "# stack3 = [int(i) for i in input().split()][::-1]\n",
    "\n",
    "# sum1 = sum(stack1)\n",
    "# sum2 = sum(stack2)\n",
    "# sum3 = sum(stack3)\n",
    "\n",
    "# while (not (sum1 == sum2 and sum2 == sum3)):\n",
    "#     heights = [sum1, sum2, sum3]\n",
    "#     next = heights.index(max(heights))\n",
    "#     if next == 0:\n",
    "#         sum1 -= stack1.pop()\n",
    "#     elif next == 1:\n",
    "#         sum2 -= stack2.pop()\n",
    "#     else:\n",
    "#         sum3 -= stack3.pop()\n",
    "# print(sum1)\n"
   ]
  }
 ],
 "metadata": {
  "kernelspec": {
   "display_name": "Python 3",
   "language": "python",
   "name": "python3"
  },
  "language_info": {
   "codemirror_mode": {
    "name": "ipython",
    "version": 3
   },
   "file_extension": ".py",
   "mimetype": "text/x-python",
   "name": "python",
   "nbconvert_exporter": "python",
   "pygments_lexer": "ipython3",
   "version": "3.7.6"
  }
 },
 "nbformat": 4,
 "nbformat_minor": 4
}
