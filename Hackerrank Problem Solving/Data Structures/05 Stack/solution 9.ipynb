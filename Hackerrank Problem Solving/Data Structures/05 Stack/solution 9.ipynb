{
 "cells": [
  {
   "cell_type": "code",
   "execution_count": null,
   "metadata": {},
   "outputs": [],
   "source": [
    "#!/bin/python3\n",
    "\n",
    "import sys\n",
    "\n",
    "n, q = input().strip().split(' ')\n",
    "n, q = [int(n), int(q)]\n",
    "number = list(map(int, input().strip().split(' ')))\n",
    "\n",
    "# get the prime numbers\n",
    "lower = 2\n",
    "upper = 10000\n",
    "prime = [i for i in range(lower, upper + 1) if all(i % j != 0 for j in range(2, i))]\n",
    "\n",
    "# set Two-dimensional array\n",
    "A = [[] for i in range(q + 1)] \n",
    "B = [[] for i in range(q + 1)] \n",
    "A[0] = number\n",
    "\n",
    "# pick up plates from A stack\n",
    "for i in range(q):\n",
    "    for j in range(len(A[i])):\n",
    "        n = A[i].pop()\n",
    "        if n % prime[i] == 0:\n",
    "            B[i].append(n)\n",
    "        else :\n",
    "            A[i+1].append(n)\n",
    "            \n",
    "# print plates in B\n",
    "for i in range(len(B)):\n",
    "    while B[i] != []:\n",
    "        print(B[i].pop(),)\n",
    "        \n",
    "# print plates in A\n",
    "for i in range(len(A)):\n",
    "    while A[i] != []:\n",
    "        print(A[i].pop(),)\n"
   ]
  }
 ],
 "metadata": {
  "kernelspec": {
   "display_name": "Python 3",
   "language": "python",
   "name": "python3"
  },
  "language_info": {
   "codemirror_mode": {
    "name": "ipython",
    "version": 3
   },
   "file_extension": ".py",
   "mimetype": "text/x-python",
   "name": "python",
   "nbconvert_exporter": "python",
   "pygments_lexer": "ipython3",
   "version": "3.7.6"
  }
 },
 "nbformat": 4,
 "nbformat_minor": 4
}
