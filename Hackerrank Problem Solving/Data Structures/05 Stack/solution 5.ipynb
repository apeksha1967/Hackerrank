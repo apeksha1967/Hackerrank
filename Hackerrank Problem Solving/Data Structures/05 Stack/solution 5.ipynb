{
 "cells": [
  {
   "cell_type": "code",
   "execution_count": null,
   "metadata": {},
   "outputs": [],
   "source": [
    "#!/bin/python3\n",
    "\n",
    "import math\n",
    "import os\n",
    "import random\n",
    "import re\n",
    "import sys\n",
    "\n",
    "# Complete the largestRectangle function below.\n",
    "def largestRectangle(h):\n",
    "    s,i,m = [],0,0\n",
    "    while i < len(h) :\n",
    "        if not s or h[i] > h[s[-1]] :\n",
    "            s.append(i)\n",
    "            i += 1\n",
    "        else :\n",
    "            t = s.pop()\n",
    "            if s:\n",
    "                a = h[t] * (i - s[-1] -1)\n",
    "            else:\n",
    "                a = h[t] * i\n",
    "            if a > m :\n",
    "                m = a\n",
    "                \n",
    "    while s :\n",
    "        t = s.pop()\n",
    "        if s:\n",
    "            a = h[t] * (i - s[-1] -1)\n",
    "        else:\n",
    "            a = h[t] * i\n",
    "        if a > m :\n",
    "            m = a\n",
    "        \n",
    "    return m \n",
    "\n",
    "if __name__ == '__main__':\n",
    "    fptr = open(os.environ['OUTPUT_PATH'], 'w')\n",
    "\n",
    "    n = int(input())\n",
    "\n",
    "    h = list(map(int, input().rstrip().split()))\n",
    "\n",
    "    result = largestRectangle(h)\n",
    "\n",
    "    fptr.write(str(result) + '\\n')\n",
    "\n",
    "    fptr.close()\n"
   ]
  }
 ],
 "metadata": {
  "kernelspec": {
   "display_name": "Python 3",
   "language": "python",
   "name": "python3"
  },
  "language_info": {
   "codemirror_mode": {
    "name": "ipython",
    "version": 3
   },
   "file_extension": ".py",
   "mimetype": "text/x-python",
   "name": "python",
   "nbconvert_exporter": "python",
   "pygments_lexer": "ipython3",
   "version": "3.7.6"
  }
 },
 "nbformat": 4,
 "nbformat_minor": 4
}
