{
 "cells": [
  {
   "cell_type": "code",
   "execution_count": null,
   "metadata": {},
   "outputs": [],
   "source": [
    "#!/bin/python3\n",
    "\n",
    "import os\n",
    "import sys\n",
    "\n",
    "#\n",
    "# Complete the twoStacks function below.\n",
    "#\n",
    "def twoStacks(x, a, b):\n",
    "    if min(a[0], b[0]) > x: return 0\n",
    "    A, B = [a[0]], [b[0]]\n",
    "    for i in a[1:]:\n",
    "        s = i + A[-1]\n",
    "        if s <= x: A += [s]\n",
    "        else: break\n",
    "    for i in b[1:]:\n",
    "        s = i + B[-1]\n",
    "        if s <= x: B += [s]\n",
    "        else: break\n",
    "    if len(A) < len(B): A, B = B, A\n",
    "    i, j, m = len(A) - 1, 0, 0\n",
    "    while i >= 0:\n",
    "        while j < len(B) and A[i] + B[j] <= x: j += 1\n",
    "        m = max(m, i + j + 1)\n",
    "        i -= 1\n",
    "    return m\n",
    "    \n",
    "\n",
    "if __name__ == '__main__':\n",
    "    fptr = open(os.environ['OUTPUT_PATH'], 'w')\n",
    "\n",
    "    g = int(input())\n",
    "\n",
    "    for g_itr in range(g):\n",
    "        nmx = input().split()\n",
    "\n",
    "        n = int(nmx[0])\n",
    "\n",
    "        m = int(nmx[1])\n",
    "\n",
    "        x = int(nmx[2])\n",
    "\n",
    "        a = list(map(int, input().rstrip().split()))\n",
    "\n",
    "        b = list(map(int, input().rstrip().split()))\n",
    "\n",
    "        result = twoStacks(x, a, b)\n",
    "\n",
    "        fptr.write(str(result) + '\\n')\n",
    "\n",
    "    fptr.close()\n"
   ]
  }
 ],
 "metadata": {
  "kernelspec": {
   "display_name": "Python 3",
   "language": "python",
   "name": "python3"
  },
  "language_info": {
   "codemirror_mode": {
    "name": "ipython",
    "version": 3
   },
   "file_extension": ".py",
   "mimetype": "text/x-python",
   "name": "python",
   "nbconvert_exporter": "python",
   "pygments_lexer": "ipython3",
   "version": "3.7.6"
  }
 },
 "nbformat": 4,
 "nbformat_minor": 4
}
