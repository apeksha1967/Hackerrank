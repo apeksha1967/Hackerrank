{
 "cells": [
  {
   "cell_type": "code",
   "execution_count": null,
   "metadata": {},
   "outputs": [],
   "source": [
    "#!/bin/python3\n",
    "\n",
    "import math\n",
    "import os\n",
    "import random\n",
    "import re\n",
    "import sys\n",
    "\n",
    "# Complete the isBalanced function below.\n",
    "def isBalanced(s):\n",
    "    stack = []\n",
    "    flag = True\n",
    "    i = 0\n",
    "    while i<len(s) and flag:\n",
    "        p = s[i]\n",
    "        if p in '({[':\n",
    "            stack.append(p)\n",
    "        else:\n",
    "            if stack == []:\n",
    "                flag = False\n",
    "            else:\n",
    "                top = stack.pop()\n",
    "                if not match(top,p):\n",
    "                    flag = False\n",
    "        i += 1\n",
    "    \n",
    "    if stack == [] and flag:\n",
    "        return (\"YES\")\n",
    "    else:\n",
    "        return (\"NO\")\n",
    "\n",
    "def match(p1,p2):\n",
    "    if p1 == \"[\" and p2 == \"]\":\n",
    "        return True\n",
    "    elif p1 == \"(\" and p2 == \")\":\n",
    "        return True\n",
    "    elif p1 == \"{\" and p2 == \"}\":\n",
    "        return True\n",
    "    else:\n",
    "        return False\n",
    "\n",
    "\n",
    "if __name__ == '__main__':\n",
    "    fptr = open(os.environ['OUTPUT_PATH'], 'w')\n",
    "\n",
    "    t = int(input())\n",
    "\n",
    "    for t_itr in range(t):\n",
    "        s = input()\n",
    "\n",
    "        result = isBalanced(s)\n",
    "\n",
    "        fptr.write(result + '\\n')\n",
    "\n",
    "    fptr.close()\n"
   ]
  }
 ],
 "metadata": {
  "kernelspec": {
   "display_name": "Python 3",
   "language": "python",
   "name": "python3"
  },
  "language_info": {
   "codemirror_mode": {
    "name": "ipython",
    "version": 3
   },
   "file_extension": ".py",
   "mimetype": "text/x-python",
   "name": "python",
   "nbconvert_exporter": "python",
   "pygments_lexer": "ipython3",
   "version": "3.7.6"
  }
 },
 "nbformat": 4,
 "nbformat_minor": 4
}
