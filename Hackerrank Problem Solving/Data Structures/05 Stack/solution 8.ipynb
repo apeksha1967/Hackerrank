{
 "cells": [
  {
   "cell_type": "code",
   "execution_count": null,
   "metadata": {},
   "outputs": [],
   "source": [
    "#!/bin/python3\n",
    "\n",
    "import os\n",
    "import sys\n",
    "\n",
    "#\n",
    "# Complete the andXorOr function below.\n",
    "#\n",
    "def andXorOr(a):\n",
    "    stack = [a[0]]; max_val = -1<<256\n",
    "    \n",
    "    for item in a[1:]:\n",
    "        while stack:\n",
    "            m1,m2 = item, stack[-1]\n",
    "            result = ((m1 & m2) ^ (m1 | m2)) & (m1 ^ m2)\n",
    "            if result > max_val:\n",
    "                max_val = result\n",
    "            if item < stack[-1]:\n",
    "                stack.pop()\n",
    "            else:\n",
    "                break\n",
    "        stack.append(item)\n",
    "    return max_val\n",
    "\n",
    "if __name__ == '__main__':\n",
    "    fptr = open(os.environ['OUTPUT_PATH'], 'w')\n",
    "\n",
    "    a_count = int(input())\n",
    "\n",
    "    a = list(map(int, input().rstrip().split()))\n",
    "\n",
    "    result = andXorOr(a)\n",
    "\n",
    "    fptr.write(str(result) + '\\n')\n",
    "\n",
    "    fptr.close()\n"
   ]
  }
 ],
 "metadata": {
  "kernelspec": {
   "display_name": "Python 3",
   "language": "python",
   "name": "python3"
  },
  "language_info": {
   "codemirror_mode": {
    "name": "ipython",
    "version": 3
   },
   "file_extension": ".py",
   "mimetype": "text/x-python",
   "name": "python",
   "nbconvert_exporter": "python",
   "pygments_lexer": "ipython3",
   "version": "3.7.6"
  }
 },
 "nbformat": 4,
 "nbformat_minor": 4
}
