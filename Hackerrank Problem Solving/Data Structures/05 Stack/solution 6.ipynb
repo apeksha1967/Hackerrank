{
 "cells": [
  {
   "cell_type": "code",
   "execution_count": null,
   "metadata": {},
   "outputs": [],
   "source": [
    "# n = int(input())\n",
    "\n",
    "S = \"\"\n",
    "old = []\n",
    "\n",
    "for _ in range(int(input())):\n",
    "    command = input().strip().split(' ')\n",
    "    \n",
    "    if command[0] == '1':\n",
    "        old.append(S)\n",
    "        S += command[1]\n",
    "    elif command[0] == '2':\n",
    "        old.append(S)\n",
    "        S = S[0:-int(command[1])]\n",
    "    elif command[0] == '3':\n",
    "        print(S[int(command[1])-1])\n",
    "    else:\n",
    "        S = old.pop()\n"
   ]
  }
 ],
 "metadata": {
  "kernelspec": {
   "display_name": "Python 3",
   "language": "python",
   "name": "python3"
  },
  "language_info": {
   "codemirror_mode": {
    "name": "ipython",
    "version": 3
   },
   "file_extension": ".py",
   "mimetype": "text/x-python",
   "name": "python",
   "nbconvert_exporter": "python",
   "pygments_lexer": "ipython3",
   "version": "3.7.6"
  }
 },
 "nbformat": 4,
 "nbformat_minor": 4
}
