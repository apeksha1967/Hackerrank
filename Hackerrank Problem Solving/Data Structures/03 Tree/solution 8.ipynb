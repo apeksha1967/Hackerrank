{
 "cells": [
  {
   "cell_type": "code",
   "execution_count": null,
   "metadata": {},
   "outputs": [],
   "source": [
    "\n",
    "\n",
    "\"\"\"class Node:\n",
    "    def __init__(self, freq,data):\n",
    "        self.freq= freq\n",
    "        self.data=data\n",
    "        self.left = None\n",
    "        self.right = None\n",
    "\"\"\"        \n",
    "\n",
    "# Enter your code here. Read input from STDIN. Print output to STDOUT\n",
    "def decodeHuff(root, s):\n",
    "    decoded_s = ''\n",
    "    cur = root\n",
    "    for i in range(0,len(s)):\n",
    "        if(s[i] == '0'):\n",
    "            cur = cur.left\n",
    "        else:\n",
    "            cur = cur.right\n",
    "        if(cur.left == None and cur.right == None):\n",
    "            decoded_s += cur.data\n",
    "            cur = root\n",
    "    print(decoded_s)\n",
    "\n"
   ]
  }
 ],
 "metadata": {
  "kernelspec": {
   "display_name": "Python 3",
   "language": "python",
   "name": "python3"
  },
  "language_info": {
   "codemirror_mode": {
    "name": "ipython",
    "version": 3
   },
   "file_extension": ".py",
   "mimetype": "text/x-python",
   "name": "python",
   "nbconvert_exporter": "python",
   "pygments_lexer": "ipython3",
   "version": "3.7.6"
  }
 },
 "nbformat": 4,
 "nbformat_minor": 4
}
