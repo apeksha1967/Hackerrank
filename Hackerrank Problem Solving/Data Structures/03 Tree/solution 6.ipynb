{
 "cells": [
  {
   "cell_type": "code",
   "execution_count": null,
   "metadata": {},
   "outputs": [],
   "source": [
    "\n",
    "\n",
    "def levelOrder(root):\n",
    "    traversal = \"\"\n",
    "    t = levelorder_print(root,traversal)\n",
    "    print(t)\n",
    "\n",
    "def levelorder_print(root,traversal):\n",
    "    if root is None:\n",
    "        return\n",
    "    queue = []\n",
    "    queue.insert(0,root)\n",
    "    traversal = \"\"\n",
    "    while len(queue)>0:\n",
    "        traversal += (str(queue[-1])+\" \")\n",
    "        node = queue.pop()\n",
    "        if node.left:\n",
    "            queue.insert(0,node.left)\n",
    "        if node.right:\n",
    "            queue.insert(0,node.right)\n",
    "    return traversal\n",
    "\n"
   ]
  }
 ],
 "metadata": {
  "kernelspec": {
   "display_name": "Python 3",
   "language": "python",
   "name": "python3"
  },
  "language_info": {
   "codemirror_mode": {
    "name": "ipython",
    "version": 3
   },
   "file_extension": ".py",
   "mimetype": "text/x-python",
   "name": "python",
   "nbconvert_exporter": "python",
   "pygments_lexer": "ipython3",
   "version": "3.7.6"
  }
 },
 "nbformat": 4,
 "nbformat_minor": 4
}
