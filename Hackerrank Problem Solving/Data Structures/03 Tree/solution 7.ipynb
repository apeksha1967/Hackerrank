{
 "cells": [
  {
   "cell_type": "code",
   "execution_count": null,
   "metadata": {},
   "outputs": [],
   "source": [
    "\n",
    "\n",
    "#Node is defined as\n",
    "#self.left (the left child of the node)\n",
    "#self.right (the right child of the node)\n",
    "#self.info (the value of the node)\n",
    "\n",
    "    def insert(self, val):\n",
    "        if self.root is None:\n",
    "            self.root = Node(val)\n",
    "        else:\n",
    "            self._insert(val,self.root)\n",
    "    \n",
    "    def _insert(self,val,cur_node):\n",
    "        if val<cur_node.info:\n",
    "            if cur_node.left is None:\n",
    "                cur_node.left = Node(val)\n",
    "            else:\n",
    "                self._insert(val,cur_node.left)\n",
    "        elif val>cur_node.info:\n",
    "            if cur_node.right is None:\n",
    "                cur_node.right = Node(val)\n",
    "            else:\n",
    "                self._insert(val,cur_node.right)\n",
    "        else:\n",
    "            return (\"Value already present\")\n",
    "\n",
    "\n",
    "\n"
   ]
  }
 ],
 "metadata": {
  "kernelspec": {
   "display_name": "Python 3",
   "language": "python",
   "name": "python3"
  },
  "language_info": {
   "codemirror_mode": {
    "name": "ipython",
    "version": 3
   },
   "file_extension": ".py",
   "mimetype": "text/x-python",
   "name": "python",
   "nbconvert_exporter": "python",
   "pygments_lexer": "ipython3",
   "version": "3.7.6"
  }
 },
 "nbformat": 4,
 "nbformat_minor": 4
}
