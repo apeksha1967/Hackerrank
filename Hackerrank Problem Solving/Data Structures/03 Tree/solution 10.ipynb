{
 "cells": [
  {
   "cell_type": "code",
   "execution_count": null,
   "metadata": {},
   "outputs": [],
   "source": [
    "import sys\n",
    "sys.setrecursionlimit(2000)\n",
    "depth = {}\n",
    "left = []\n",
    "right = []\n",
    "\n",
    "def depth_order(value, d=1):\n",
    "    if d not in depth.keys():\n",
    "        depth[d] = []\n",
    "    depth[d].append(value)\n",
    "    if left[value] >= 0:\n",
    "        depth_order(left[value], d + 1)\n",
    "    if right[value] >= 0:\n",
    "        depth_order(right[value], d + 1)\n",
    "\n",
    "\n",
    "def in_order(value):\n",
    "    if left[value] >= 0:\n",
    "        in_order(left[value])\n",
    "    print(value + 1, end=\" \")\n",
    "    if right[value] >= 0:\n",
    "        in_order(right[value])\n",
    "\n",
    "\n",
    "if __name__ == '__main__':\n",
    "    n = int(input())\n",
    "    for _ in range(n):\n",
    "        x = list(map(int, input().rstrip().split()))\n",
    "        left.append(x[0] - 1)\n",
    "        right.append(x[1] - 1)\n",
    "\n",
    "    root = 0\n",
    "    depth_order(root)\n",
    "    queries_count = int(input())\n",
    "\n",
    "    for _ in range(queries_count):\n",
    "        queries_item = int(input())\n",
    "        for j in range(queries_item, len(depth), queries_item):\n",
    "            for value in depth[j]:\n",
    "                left[value], right[value] = right[value], left[value]\n",
    "        in_order(root)\n",
    "        print()\n"
   ]
  }
 ],
 "metadata": {
  "kernelspec": {
   "display_name": "Python 3",
   "language": "python",
   "name": "python3"
  },
  "language_info": {
   "codemirror_mode": {
    "name": "ipython",
    "version": 3
   },
   "file_extension": ".py",
   "mimetype": "text/x-python",
   "name": "python",
   "nbconvert_exporter": "python",
   "pygments_lexer": "ipython3",
   "version": "3.7.6"
  }
 },
 "nbformat": 4,
 "nbformat_minor": 4
}
