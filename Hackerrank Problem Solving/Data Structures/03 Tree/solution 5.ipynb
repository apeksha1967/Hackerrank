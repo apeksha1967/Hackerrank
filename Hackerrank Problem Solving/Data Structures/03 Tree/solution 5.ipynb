{
 "cells": [
  {
   "cell_type": "code",
   "execution_count": null,
   "metadata": {},
   "outputs": [],
   "source": [
    "\n",
    "\n",
    "def topView(root):\n",
    "    if(root == None) : \n",
    "        return\n",
    "    q = [] \n",
    "    m = dict() \n",
    "    hd = 0\n",
    "    root.hd = hd  \n",
    "   \n",
    "    q.append(root)  \n",
    "  \n",
    "    while(len(q)): \n",
    "        root = q[0] \n",
    "        hd = root.hd  \n",
    "\n",
    "        if hd not in m: \n",
    "            m[hd] = root.info  \n",
    "        if(root.left) :          \n",
    "            root.left.hd = hd - 1\n",
    "            q.append(root.left)  \n",
    "          \n",
    "        if(root.right):          \n",
    "            root.right.hd = hd + 1\n",
    "            q.append(root.right)  \n",
    "          \n",
    "        q.pop(0)\n",
    "    for i in sorted (m): \n",
    "        print(m[i], end = \" \")\n",
    "\n"
   ]
  }
 ],
 "metadata": {
  "kernelspec": {
   "display_name": "Python 3",
   "language": "python",
   "name": "python3"
  },
  "language_info": {
   "codemirror_mode": {
    "name": "ipython",
    "version": 3
   },
   "file_extension": ".py",
   "mimetype": "text/x-python",
   "name": "python",
   "nbconvert_exporter": "python",
   "pygments_lexer": "ipython3",
   "version": "3.7.6"
  }
 },
 "nbformat": 4,
 "nbformat_minor": 4
}
