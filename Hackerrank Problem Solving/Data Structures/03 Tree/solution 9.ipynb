{
 "cells": [
  {
   "cell_type": "code",
   "execution_count": null,
   "metadata": {},
   "outputs": [],
   "source": [
    "\n",
    "\n",
    "# Enter your code here. Read input from STDIN. Print output to STDOUT\n",
    "'''\n",
    "class Node:\n",
    "      def __init__(self,info): \n",
    "          self.info = info  \n",
    "          self.left = None  \n",
    "          self.right = None \n",
    "           \n",
    "\n",
    "       // this is a node of the tree , which contains info as data, left , right\n",
    "'''\n",
    "\n",
    "def lca(root, v1, v2):\n",
    "    current1=root\n",
    "    current2=root\n",
    "    route1=[]\n",
    "    route2=[]\n",
    "\n",
    "    while current1 or current2:\n",
    "        \n",
    "        if current1:\n",
    "            route1.append(current1)\n",
    "            if current1.info>v1:\n",
    "                current1=current1.left\n",
    "            elif current1.info<v1:\n",
    "                current1=current1.right\n",
    "            elif current1.info==v1:\n",
    "                 current1=None\n",
    "        if current2:\n",
    "            route2.append(current2)\n",
    "            if current2.info>v2:\n",
    "                current2=current2.left\n",
    "            elif current2.info<v2:\n",
    "                current2=current2.right\n",
    "            elif current2.info==v2:\n",
    "                 current2=None\n",
    "    arr=route1 if len(route1)<len(route2) else route2\n",
    "\n",
    "    commonNode=None\n",
    "    for i in range(len(arr)):\n",
    "        if route1[i]==route2[i]:\n",
    "            commonNode=route1[i]\n",
    "    return commonNode\n",
    "\n"
   ]
  }
 ],
 "metadata": {
  "kernelspec": {
   "display_name": "Python 3",
   "language": "python",
   "name": "python3"
  },
  "language_info": {
   "codemirror_mode": {
    "name": "ipython",
    "version": 3
   },
   "file_extension": ".py",
   "mimetype": "text/x-python",
   "name": "python",
   "nbconvert_exporter": "python",
   "pygments_lexer": "ipython3",
   "version": "3.7.6"
  }
 },
 "nbformat": 4,
 "nbformat_minor": 4
}
