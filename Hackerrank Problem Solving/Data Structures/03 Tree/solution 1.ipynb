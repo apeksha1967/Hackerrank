{
 "cells": [
  {
   "cell_type": "code",
   "execution_count": null,
   "metadata": {},
   "outputs": [],
   "source": [
    "\n",
    "\n",
    "\"\"\"\n",
    "Node is defined as\n",
    "self.left (the left child of the node)\n",
    "self.right (the right child of the node)\n",
    "self.info (the value of the node)\n",
    "\"\"\"\n",
    "def preOrder(root):\n",
    "    traversal=\"\"\n",
    "    t = preorder_print(root,traversal)\n",
    "    print(t)\n",
    "\n",
    "def preorder_print(root,traversal):\n",
    "    if root:\n",
    "        traversal += (str(root.info)+\" \")\n",
    "        traversal = preorder_print(root.left,traversal)\n",
    "        traversal = preorder_print(root.right,traversal)\n",
    "    return traversal\n",
    "\n"
   ]
  }
 ],
 "metadata": {
  "kernelspec": {
   "display_name": "Python 3",
   "language": "python",
   "name": "python3"
  },
  "language_info": {
   "codemirror_mode": {
    "name": "ipython",
    "version": 3
   },
   "file_extension": ".py",
   "mimetype": "text/x-python",
   "name": "python",
   "nbconvert_exporter": "python",
   "pygments_lexer": "ipython3",
   "version": "3.7.6"
  }
 },
 "nbformat": 4,
 "nbformat_minor": 4
}
