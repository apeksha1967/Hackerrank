{
 "cells": [
  {
   "cell_type": "code",
   "execution_count": null,
   "metadata": {},
   "outputs": [],
   "source": [
    "def Sol( a, d ):\n",
    "    if d == len(a):\n",
    "        return max(a)\n",
    "    maxqueue = [ 0 ]\n",
    "    for k in range(1, d): \n",
    "        while maxqueue and a[k] > a[maxqueue[-1]]:\n",
    "            maxqueue.pop()\n",
    "        maxqueue.append( k )\n",
    "    res = a[maxqueue[0]]\n",
    "    for k in range(d, len(a)):\n",
    "        if k - maxqueue[0] >= d: maxqueue.pop( 0 )\n",
    "        while maxqueue and a[k] > a[maxqueue[-1]]:\n",
    "            maxqueue.pop()\n",
    "        maxqueue.append( k )\n",
    "        res = min( res, a[maxqueue[0]] )\n",
    "    return res            \n",
    "    \n",
    "\n",
    "N, Q = map(int, input().split())\n",
    "a = list(map(int, input().split()))\n",
    "for _ in range(Q):\n",
    "    d = int(input())\n",
    "    print( Sol( a, d ))\n"
   ]
  }
 ],
 "metadata": {
  "kernelspec": {
   "display_name": "Python 3",
   "language": "python",
   "name": "python3"
  },
  "language_info": {
   "codemirror_mode": {
    "name": "ipython",
    "version": 3
   },
   "file_extension": ".py",
   "mimetype": "text/x-python",
   "name": "python",
   "nbconvert_exporter": "python",
   "pygments_lexer": "ipython3",
   "version": "3.7.6"
  }
 },
 "nbformat": 4,
 "nbformat_minor": 4
}
