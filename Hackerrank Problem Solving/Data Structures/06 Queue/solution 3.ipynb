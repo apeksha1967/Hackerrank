{
 "cells": [
  {
   "cell_type": "code",
   "execution_count": null,
   "metadata": {},
   "outputs": [],
   "source": [
    "N = 10**6\n",
    "\n",
    "moves = [0] + N * [N]\n",
    "for i in range(N):\n",
    "    moves[i+1] = min(moves[i+1], moves[i] + 1)\n",
    "    j = 2\n",
    "    while j <= i and j * i <= N:\n",
    "        moves[i * j] = min(moves[i * j], moves[i] + 1)\n",
    "        j += 1\n",
    "\n",
    "for _ in range(int(input())):\n",
    "    print(moves[int(input())])"
   ]
  }
 ],
 "metadata": {
  "kernelspec": {
   "display_name": "Python 3",
   "language": "python",
   "name": "python3"
  },
  "language_info": {
   "codemirror_mode": {
    "name": "ipython",
    "version": 3
   },
   "file_extension": ".py",
   "mimetype": "text/x-python",
   "name": "python",
   "nbconvert_exporter": "python",
   "pygments_lexer": "ipython3",
   "version": "3.7.6"
  }
 },
 "nbformat": 4,
 "nbformat_minor": 4
}
