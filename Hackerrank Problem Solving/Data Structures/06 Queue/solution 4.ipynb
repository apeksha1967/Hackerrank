{
 "cells": [
  {
   "cell_type": "code",
   "execution_count": null,
   "metadata": {},
   "outputs": [],
   "source": [
    "#!/bin/python3\n",
    "\n",
    "import os\n",
    "import sys\n",
    "\n",
    "#\n",
    "# Complete the truckTour function below.\n",
    "#\n",
    "def truckTour(petrolpumps):\n",
    "    fuel=0\n",
    "    n=len(petrolpumps)\n",
    "    l=0\n",
    "    i=l\n",
    "    while i<n:\n",
    "        fuel=fuel+petrolpumps[i][0]-petrolpumps[i][1]\n",
    "        if fuel<0:\n",
    "            l=l+1\n",
    "            i=l\n",
    "            fuel=0\n",
    "        else:\n",
    "            i+=1\n",
    "    return l\n",
    "\n",
    "if __name__ == '__main__':\n",
    "    fptr = open(os.environ['OUTPUT_PATH'], 'w')\n",
    "\n",
    "    n = int(input())\n",
    "\n",
    "    petrolpumps = []\n",
    "\n",
    "    for _ in range(n):\n",
    "        petrolpumps.append(list(map(int, input().rstrip().split())))\n",
    "\n",
    "    result = truckTour(petrolpumps)\n",
    "\n",
    "    fptr.write(str(result) + '\\n')\n",
    "\n",
    "    fptr.close()\n"
   ]
  }
 ],
 "metadata": {
  "kernelspec": {
   "display_name": "Python 3",
   "language": "python",
   "name": "python3"
  },
  "language_info": {
   "codemirror_mode": {
    "name": "ipython",
    "version": 3
   },
   "file_extension": ".py",
   "mimetype": "text/x-python",
   "name": "python",
   "nbconvert_exporter": "python",
   "pygments_lexer": "ipython3",
   "version": "3.7.6"
  }
 },
 "nbformat": 4,
 "nbformat_minor": 4
}
