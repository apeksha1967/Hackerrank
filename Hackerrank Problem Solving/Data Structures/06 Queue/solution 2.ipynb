{
 "cells": [
  {
   "cell_type": "code",
   "execution_count": null,
   "metadata": {},
   "outputs": [],
   "source": [
    "from collections import deque\n",
    "\n",
    "n, inf = int(input()), float('inf')\n",
    "grid = [list(input()) for _ in range(n)]\n",
    "x_beg, y_beg, x_end, y_end = map(int, input().split())\n",
    "dist = [n * [inf] for _ in range(n)]\n",
    "dist[x_beg][y_beg], grid[x_end][y_end] = 0, '*'\n",
    "\n",
    "queue = deque([(x_beg, y_beg)])\n",
    "while queue:\n",
    "    x0, y0 = queue.popleft()\n",
    "    d = dist[x0][y0]\n",
    "    if grid[x0][y0] == '*':\n",
    "        break\n",
    "    for nbr in [range(x0+1, n), range(x0-1, -1, -1)]:\n",
    "        for x in nbr:\n",
    "            if grid[x][y0] == 'X':\n",
    "                break\n",
    "            if dist[x][y0] == inf:\n",
    "                dist[x][y0] = d + 1\n",
    "                queue.append((x, y0))\n",
    "    for nbr in [range(y0+1, n), range(y0-1, -1, -1)]:\n",
    "        for y in nbr:\n",
    "            if grid[x0][y] == 'X':\n",
    "                break\n",
    "            if dist[x0][y] == inf:\n",
    "                dist[x0][y] = d + 1\n",
    "                queue.append((x0, y))\n",
    "print(d)\n"
   ]
  }
 ],
 "metadata": {
  "kernelspec": {
   "display_name": "Python 3",
   "language": "python",
   "name": "python3"
  },
  "language_info": {
   "codemirror_mode": {
    "name": "ipython",
    "version": 3
   },
   "file_extension": ".py",
   "mimetype": "text/x-python",
   "name": "python",
   "nbconvert_exporter": "python",
   "pygments_lexer": "ipython3",
   "version": "3.7.6"
  }
 },
 "nbformat": 4,
 "nbformat_minor": 4
}
