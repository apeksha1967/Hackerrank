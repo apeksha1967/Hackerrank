{
 "cells": [
  {
   "cell_type": "code",
   "execution_count": null,
   "metadata": {},
   "outputs": [],
   "source": [
    "from heapq import heappush, heappop\n",
    "\n",
    "if __name__ == '__main__':\n",
    "    heap, setq = [], set()\n",
    "    PUSH, DELETE, PRINT = \"1\", \"2\", \"3\"\n",
    "\n",
    "    for _ in range(int(input())):\n",
    "        t = input().split()\n",
    "        if t[0] == PUSH:\n",
    "            v = int(t[1])\n",
    "            heappush(heap, v)\n",
    "            setq.add(v)\n",
    "\n",
    "        elif t[0] == DELETE:\n",
    "            v = int(t[1])\n",
    "            setq.remove(v)\n",
    "            while len(heap) > 0 and heap[0] not in setq:\n",
    "                heappop(heap)\n",
    "        else:\n",
    "            print(heap[0])\n"
   ]
  }
 ],
 "metadata": {
  "kernelspec": {
   "display_name": "Python 3",
   "language": "python",
   "name": "python3"
  },
  "language_info": {
   "codemirror_mode": {
    "name": "ipython",
    "version": 3
   },
   "file_extension": ".py",
   "mimetype": "text/x-python",
   "name": "python",
   "nbconvert_exporter": "python",
   "pygments_lexer": "ipython3",
   "version": "3.7.6"
  }
 },
 "nbformat": 4,
 "nbformat_minor": 4
}
