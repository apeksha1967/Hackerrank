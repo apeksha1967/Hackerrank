{
 "cells": [
  {
   "cell_type": "code",
   "execution_count": null,
   "metadata": {},
   "outputs": [],
   "source": [
    "#!/bin/python3\n",
    "\n",
    "import os\n",
    "import sys\n",
    "import bisect\n",
    "\n",
    "#\n",
    "# Complete the runningMedian function below.\n",
    "#\n",
    "def runningMedian(a):\n",
    "    p=[]\n",
    "    l=0\n",
    "    q=[]\n",
    "    for i in range(len(a)):\n",
    "        l=l+1\n",
    "        bisect.insort(p,a[i])\n",
    "        if(l%2==1):\n",
    "            q.append(p[l//2])\n",
    "        else:\n",
    "            q.append((p[l//2]+p[l//2-1])/2)\n",
    "    return q\n",
    "\n",
    "if __name__ == '__main__':\n",
    "    fptr = open(os.environ['OUTPUT_PATH'], 'w')\n",
    "\n",
    "    a_count = int(input())\n",
    "\n",
    "    a = []\n",
    "\n",
    "    for _ in range(a_count):\n",
    "        a_item = int(input())\n",
    "        a.append(a_item)\n",
    "\n",
    "    result = runningMedian(a)\n",
    "\n",
    "    fptr.write('\\n'.join(map(str, result)))\n",
    "    fptr.write('\\n')\n",
    "\n",
    "    fptr.close()\n"
   ]
  }
 ],
 "metadata": {
  "kernelspec": {
   "display_name": "Python 3",
   "language": "python",
   "name": "python3"
  },
  "language_info": {
   "codemirror_mode": {
    "name": "ipython",
    "version": 3
   },
   "file_extension": ".py",
   "mimetype": "text/x-python",
   "name": "python",
   "nbconvert_exporter": "python",
   "pygments_lexer": "ipython3",
   "version": "3.7.6"
  }
 },
 "nbformat": 4,
 "nbformat_minor": 4
}
