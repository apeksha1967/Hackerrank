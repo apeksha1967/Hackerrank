{
 "cells": [
  {
   "cell_type": "code",
   "execution_count": null,
   "metadata": {},
   "outputs": [],
   "source": [
    "from queue import PriorityQueue\n",
    "\n",
    "def addOrder(orders, pq, currentTime):\n",
    "    # remove the order that arrived first and has leat cookTime\n",
    "    arrivalTime, cookTime = orders.pop()\n",
    "    # priority is given to ordres that have lesser cookTime\n",
    "    pq.put((cookTime, arrivalTime))\n",
    "    currentTime = max(currentTime, arrivalTime)\n",
    "    return currentTime\n",
    "\n",
    "\n",
    "def main():\n",
    "    n = int(input())\n",
    "    orders = list()\n",
    "    pq = PriorityQueue()\n",
    "    for i in range(n):\n",
    "        arrivalTime, cookTime = map(int, input().split())\n",
    "        # store orders as a tuple\n",
    "        orders.append((arrivalTime, cookTime))\n",
    "    orders.sort(reverse=True) # sort orders in descending order, that is, order that arrived first and has least cookTime is at last, this is done so that pop() operation takes less time in the subsequent steps\n",
    "    waitingTime = 0\n",
    "    currentTime = 0\n",
    "    # continue till orders exist or pq is not empty\n",
    "    while orders or not pq.empty():\n",
    "        # add all orders which arrived before currentTime\n",
    "        while orders and orders[-1][0] <= currentTime:\n",
    "            currentTime = addOrder(orders, pq, currentTime)\n",
    "        if pq.empty():  # if pq is empty, then add an order anyway\n",
    "            currentTime = addOrder(orders, pq, currentTime)\n",
    "        # process the order with least cookTime\n",
    "        cookTime, arrivalTime = pq.get()\n",
    "        currentTime += cookTime\n",
    "        waitingTime += currentTime - arrivalTime\n",
    "    print(waitingTime // n)\n",
    "\n",
    "if __name__ == '__main__':\n",
    "    main()\n"
   ]
  }
 ],
 "metadata": {
  "kernelspec": {
   "display_name": "Python 3",
   "language": "python",
   "name": "python3"
  },
  "language_info": {
   "codemirror_mode": {
    "name": "ipython",
    "version": 3
   },
   "file_extension": ".py",
   "mimetype": "text/x-python",
   "name": "python",
   "nbconvert_exporter": "python",
   "pygments_lexer": "ipython3",
   "version": "3.7.6"
  }
 },
 "nbformat": 4,
 "nbformat_minor": 4
}
