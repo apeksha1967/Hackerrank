{
 "cells": [
  {
   "cell_type": "code",
   "execution_count": null,
   "metadata": {},
   "outputs": [],
   "source": [
    "from heapq import heappop,heappush,heapify\n",
    "\n",
    "firstLine = [int(x) for x in input().split()]\n",
    "cookies = [int(x) for x in input().split()]\n",
    "\n",
    "cookieCount = int(firstLine[0])\n",
    "minSweetness = int(firstLine[1])\n",
    "\n",
    "heapify(cookies)\n",
    "\n",
    "fC = 0\n",
    "try:\n",
    "    while cookies[0] < minSweetness:\n",
    "        fC+=1\n",
    "        c1 = heappop(cookies)\n",
    "        c2 = heappop(cookies)\n",
    "        newCookie=(1*c1)+(2*c2)\n",
    "        heappush(cookies,newCookie)\n",
    "    print(fC)\n",
    "except:\n",
    "    print(\"-1\")\n"
   ]
  }
 ],
 "metadata": {
  "kernelspec": {
   "display_name": "Python 3",
   "language": "python",
   "name": "python3"
  },
  "language_info": {
   "codemirror_mode": {
    "name": "ipython",
    "version": 3
   },
   "file_extension": ".py",
   "mimetype": "text/x-python",
   "name": "python",
   "nbconvert_exporter": "python",
   "pygments_lexer": "ipython3",
   "version": "3.7.6"
  }
 },
 "nbformat": 4,
 "nbformat_minor": 4
}
