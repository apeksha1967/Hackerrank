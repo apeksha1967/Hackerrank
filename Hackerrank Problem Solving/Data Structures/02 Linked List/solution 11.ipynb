{
 "cells": [
  {
   "cell_type": "code",
   "execution_count": null,
   "metadata": {},
   "outputs": [],
   "source": [
    "\n",
    "\n",
    "# Complete the removeDuplicates function below.\n",
    "\n",
    "#\n",
    "# For your reference:\n",
    "#\n",
    "# SinglyLinkedListNode:\n",
    "#     int data\n",
    "#     SinglyLinkedListNode next\n",
    "#\n",
    "#\n",
    "\n",
    "def removeDuplicates(head):\n",
    "    cur=head\n",
    "    prev=None\n",
    "    l = []\n",
    "    while cur:\n",
    "        if cur.data in l:\n",
    "            prev.next=cur.next\n",
    "            cur=None\n",
    "        else:\n",
    "            l.append(cur.data)\n",
    "            prev=cur\n",
    "        cur=prev.next\n",
    "    return head\n",
    "\n"
   ]
  }
 ],
 "metadata": {
  "kernelspec": {
   "display_name": "Python 3",
   "language": "python",
   "name": "python3"
  },
  "language_info": {
   "codemirror_mode": {
    "name": "ipython",
    "version": 3
   },
   "file_extension": ".py",
   "mimetype": "text/x-python",
   "name": "python",
   "nbconvert_exporter": "python",
   "pygments_lexer": "ipython3",
   "version": "3.7.6"
  }
 },
 "nbformat": 4,
 "nbformat_minor": 4
}
