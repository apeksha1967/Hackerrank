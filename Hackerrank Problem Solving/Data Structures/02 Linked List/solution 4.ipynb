{
 "cells": [
  {
   "cell_type": "code",
   "execution_count": null,
   "metadata": {},
   "outputs": [],
   "source": [
    "\n",
    "\n",
    "# Complete the insertNodeAtPosition function below.\n",
    "\n",
    "#\n",
    "# For your reference:\n",
    "#\n",
    "# SinglyLinkedListNode:\n",
    "#     int data\n",
    "#     SinglyLinkedListNode next\n",
    "#\n",
    "#\n",
    "class Node:\n",
    "  # constructor\n",
    "  def __init__(self, data, next=None): \n",
    "    self.data = data\n",
    "    self.next = next\n",
    "\n",
    "def insertNodeAtPosition(head, data, position):\n",
    "    if position == 0:\n",
    "        return Node(data=data, next=head)\n",
    "    else:\n",
    "        curr_node = head\n",
    "        for _ in range(position):\n",
    "            prev_node = curr_node\n",
    "            curr_node = curr_node.next\n",
    "        prev_node.next = Node(data=data, next=curr_node)\n",
    "    return head\n",
    "    \n",
    "\n"
   ]
  }
 ],
 "metadata": {
  "kernelspec": {
   "display_name": "Python 3",
   "language": "python",
   "name": "python3"
  },
  "language_info": {
   "codemirror_mode": {
    "name": "ipython",
    "version": 3
   },
   "file_extension": ".py",
   "mimetype": "text/x-python",
   "name": "python",
   "nbconvert_exporter": "python",
   "pygments_lexer": "ipython3",
   "version": "3.7.6"
  }
 },
 "nbformat": 4,
 "nbformat_minor": 4
}
