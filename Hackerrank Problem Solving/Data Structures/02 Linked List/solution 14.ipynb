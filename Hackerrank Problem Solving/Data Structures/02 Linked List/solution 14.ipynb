{
 "cells": [
  {
   "cell_type": "code",
   "execution_count": null,
   "metadata": {},
   "outputs": [],
   "source": [
    "\n",
    "\n",
    "# Complete the sortedInsert function below.\n",
    "\n",
    "#\n",
    "# For your reference:\n",
    "#\n",
    "# DoublyLinkedListNode:\n",
    "#     int data\n",
    "#     DoublyLinkedListNode next\n",
    "#     DoublyLinkedListNode prev\n",
    "#\n",
    "#\n",
    "def sortedInsert(head, data):\n",
    "    if head==None:\n",
    "        new_node=DoublyLinkedListNode(data)\n",
    "        new_node.prev=None\n",
    "        self.head=new_node\n",
    "        return head\n",
    "    elif head.data>data:\n",
    "        new_node=DoublyLinkedListNode(data)\n",
    "        head.prev=new_node\n",
    "        new_node.next=head\n",
    "        head=new_node\n",
    "        new_node.prev=None\n",
    "        return head\n",
    "    else:\n",
    "        new_node=DoublyLinkedListNode(data)\n",
    "        cur=head\n",
    "        prv=None\n",
    "        nxt=None\n",
    "        while cur.data<=data:\n",
    "            prv=cur\n",
    "            nxt=prv.next\n",
    "            cur=cur.next\n",
    "            if cur==None:\n",
    "                break\n",
    "        if cur!=None:\n",
    "            prv.next = new_node\n",
    "            new_node.next=nxt\n",
    "            nxt.prev=new_node\n",
    "            new_node.prev=prv\n",
    "        else:\n",
    "            prv.next=new_node\n",
    "            new_node.prev=prv\n",
    "            new_node.next=None\n",
    "        return head\n",
    "    \n",
    "\n"
   ]
  }
 ],
 "metadata": {
  "kernelspec": {
   "display_name": "Python 3",
   "language": "python",
   "name": "python3"
  },
  "language_info": {
   "codemirror_mode": {
    "name": "ipython",
    "version": 3
   },
   "file_extension": ".py",
   "mimetype": "text/x-python",
   "name": "python",
   "nbconvert_exporter": "python",
   "pygments_lexer": "ipython3",
   "version": "3.7.6"
  }
 },
 "nbformat": 4,
 "nbformat_minor": 4
}
