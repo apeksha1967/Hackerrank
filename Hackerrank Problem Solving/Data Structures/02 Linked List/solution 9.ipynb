{
 "cells": [
  {
   "cell_type": "code",
   "execution_count": null,
   "metadata": {},
   "outputs": [],
   "source": [
    "\n",
    "\n",
    "# Complete the mergeLists function below.\n",
    "\n",
    "#\n",
    "# For your reference:\n",
    "#\n",
    "# SinglyLinkedListNode:\n",
    "#     int data\n",
    "#     SinglyLinkedListNode next\n",
    "#\n",
    "#\n",
    "def mergeLists(head1, head2):\n",
    "    sys.setrecursionlimit(1000000)\n",
    "    if (head1 == None and head2 == None):\n",
    "        return None\n",
    "    if(head1 is None):\n",
    "        return head2\n",
    "    elif(head2 is None):\n",
    "        return head1\n",
    "    if(head1.data <= head2.data):\n",
    "        result = head1\n",
    "        result.next = mergeLists(head1.next, head2)\n",
    "    else:\n",
    "        result = head2\n",
    "        result.next = mergeLists(head1, head2.next)\n",
    "    return result\n",
    "\n"
   ]
  }
 ],
 "metadata": {
  "kernelspec": {
   "display_name": "Python 3",
   "language": "python",
   "name": "python3"
  },
  "language_info": {
   "codemirror_mode": {
    "name": "ipython",
    "version": 3
   },
   "file_extension": ".py",
   "mimetype": "text/x-python",
   "name": "python",
   "nbconvert_exporter": "python",
   "pygments_lexer": "ipython3",
   "version": "3.7.6"
  }
 },
 "nbformat": 4,
 "nbformat_minor": 4
}
