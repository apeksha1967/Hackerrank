{
 "cells": [
  {
   "cell_type": "code",
   "execution_count": null,
   "metadata": {},
   "outputs": [],
   "source": [
    "\n",
    "\n",
    "# Complete the reverse function below.\n",
    "\n",
    "#\n",
    "# For your reference:\n",
    "#\n",
    "# DoublyLinkedListNode:\n",
    "#     int data\n",
    "#     DoublyLinkedListNode next\n",
    "#     DoublyLinkedListNode prev\n",
    "#\n",
    "#\n",
    "def reverse(head):\n",
    "    temp = None\n",
    "    cur = head\n",
    "    while cur:\n",
    "        temp = cur.prev\n",
    "        cur.prev = cur.next\n",
    "        cur.next = temp\n",
    "        cur = cur.prev\n",
    "    if temp:\n",
    "        head=temp.prev\n",
    "    return head\n",
    "\n"
   ]
  }
 ],
 "metadata": {
  "kernelspec": {
   "display_name": "Python 3",
   "language": "python",
   "name": "python3"
  },
  "language_info": {
   "codemirror_mode": {
    "name": "ipython",
    "version": 3
   },
   "file_extension": ".py",
   "mimetype": "text/x-python",
   "name": "python",
   "nbconvert_exporter": "python",
   "pygments_lexer": "ipython3",
   "version": "3.7.6"
  }
 },
 "nbformat": 4,
 "nbformat_minor": 4
}
