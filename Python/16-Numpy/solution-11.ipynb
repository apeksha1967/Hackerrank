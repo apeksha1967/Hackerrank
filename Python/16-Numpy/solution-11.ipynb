{
 "cells": [
  {
   "cell_type": "code",
   "execution_count": null,
   "metadata": {},
   "outputs": [],
   "source": [
    "import numpy\n",
    "n,m = map(int,input().split())\n",
    "array = numpy.array([input().strip().split() for _ in range(n)], int)\n",
    "numpy.set_printoptions(sign=' ',legacy='1.13')\n",
    "print(numpy.mean(array,axis = 1))\n",
    "print(numpy.var(array,axis = 0))\n",
    "print(numpy.std(array, axis =None))\n"
   ]
  }
 ],
 "metadata": {
  "kernelspec": {
   "display_name": "Python 3",
   "language": "python",
   "name": "python3"
  },
  "language_info": {
   "codemirror_mode": {
    "name": "ipython",
    "version": 3
   },
   "file_extension": ".py",
   "mimetype": "text/x-python",
   "name": "python",
   "nbconvert_exporter": "python",
   "pygments_lexer": "ipython3",
   "version": "3.7.3"
  }
 },
 "nbformat": 4,
 "nbformat_minor": 2
}
