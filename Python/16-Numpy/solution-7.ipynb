{
 "cells": [
  {
   "cell_type": "code",
   "execution_count": null,
   "metadata": {},
   "outputs": [],
   "source": [
    "import numpy\n",
    "n,m = map(int,input().split())\n",
    "arr_1 = numpy.array([input().strip().split() for _ in range(n)], int)\n",
    "arr_2 = numpy.array([input().strip().split() for _ in range(n)], int)\n",
    "print(numpy.add(arr_1,arr_2))\n",
    "print(numpy.subtract(arr_1,arr_2))\n",
    "print(numpy.multiply(arr_1,arr_2))\n",
    "print(arr_1//arr_2)\n",
    "print(numpy.mod(arr_1,arr_2))\n",
    "print(numpy.power(arr_1,arr_2))\n"
   ]
  }
 ],
 "metadata": {
  "kernelspec": {
   "display_name": "Python 3",
   "language": "python",
   "name": "python3"
  },
  "language_info": {
   "codemirror_mode": {
    "name": "ipython",
    "version": 3
   },
   "file_extension": ".py",
   "mimetype": "text/x-python",
   "name": "python",
   "nbconvert_exporter": "python",
   "pygments_lexer": "ipython3",
   "version": "3.7.3"
  }
 },
 "nbformat": 4,
 "nbformat_minor": 2
}
