{
 "cells": [
  {
   "cell_type": "code",
   "execution_count": null,
   "metadata": {},
   "outputs": [],
   "source": [
    "# Enter your code here. Read input from STDIN. Print output to STDOUT\n",
    "m = int(input())\n",
    "arr_m = set(map(int,input().split()))\n",
    "n = int(input())\n",
    "arr_n = set(map(int,input().split()))\n",
    "\n",
    "arr_u = arr_m.union(arr_n)\n",
    "arr_i = arr_m.intersection(arr_n)\n",
    "arr = arr_u.difference(arr_i)\n",
    "arr = sorted(arr)\n",
    "\n",
    "print(*arr,sep=\"\\n\")\n"
   ]
  }
 ],
 "metadata": {
  "kernelspec": {
   "display_name": "Python 3",
   "language": "python",
   "name": "python3"
  },
  "language_info": {
   "codemirror_mode": {
    "name": "ipython",
    "version": 3
   },
   "file_extension": ".py",
   "mimetype": "text/x-python",
   "name": "python",
   "nbconvert_exporter": "python",
   "pygments_lexer": "ipython3",
   "version": "3.7.3"
  }
 },
 "nbformat": 4,
 "nbformat_minor": 2
}
