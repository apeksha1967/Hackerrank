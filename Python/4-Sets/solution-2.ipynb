{
 "cells": [
  {
   "cell_type": "code",
   "execution_count": null,
   "metadata": {},
   "outputs": [],
   "source": [
    "# Enter your code here. Read input from STDIN. Print output to STDOUT\n",
    "n,m = map(int,input().split())\n",
    "arr_n = input().split(' ')\n",
    "arr_A = set(input().split(' '))\n",
    "arr_B = set(input().split(' '))\n",
    "\n",
    "h = 0\n",
    "for i in range(n):\n",
    "    if arr_n[i] in arr_A:\n",
    "        h+=1\n",
    "    elif arr_n[i] in arr_B:\n",
    "        h-=1\n",
    "\n",
    "print(h)\n"
   ]
  }
 ],
 "metadata": {
  "kernelspec": {
   "display_name": "Python 3",
   "language": "python",
   "name": "python3"
  },
  "language_info": {
   "codemirror_mode": {
    "name": "ipython",
    "version": 3
   },
   "file_extension": ".py",
   "mimetype": "text/x-python",
   "name": "python",
   "nbconvert_exporter": "python",
   "pygments_lexer": "ipython3",
   "version": "3.7.3"
  }
 },
 "nbformat": 4,
 "nbformat_minor": 2
}
