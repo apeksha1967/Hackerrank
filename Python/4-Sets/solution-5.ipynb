{
 "cells": [
  {
   "cell_type": "code",
   "execution_count": null,
   "metadata": {},
   "outputs": [],
   "source": [
    "n = int(input())\n",
    "s = set(map(int, input().split()))\n",
    "m = int(input())\n",
    "\n",
    "for i in range(m):\n",
    "    user_input = input().split(' ')\n",
    "    command = user_input.pop(0)\n",
    "    if len(user_input)>0:\n",
    "        eval(\"s.{0}({1})\".format(command, user_input[0]))\n",
    "    else:\n",
    "        eval(\"s.{0}()\".format(command))\n",
    "\n",
    "print(sum(s))\n"
   ]
  }
 ],
 "metadata": {
  "kernelspec": {
   "display_name": "Python 3",
   "language": "python",
   "name": "python3"
  },
  "language_info": {
   "codemirror_mode": {
    "name": "ipython",
    "version": 3
   },
   "file_extension": ".py",
   "mimetype": "text/x-python",
   "name": "python",
   "nbconvert_exporter": "python",
   "pygments_lexer": "ipython3",
   "version": "3.7.3"
  }
 },
 "nbformat": 4,
 "nbformat_minor": 2
}
