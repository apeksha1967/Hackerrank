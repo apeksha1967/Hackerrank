{
 "cells": [
  {
   "cell_type": "code",
   "execution_count": null,
   "metadata": {},
   "outputs": [],
   "source": [
    "# Enter your code here. Read input from STDIN. Print output to STDOUT\n",
    "set_a = set(map(int,input().split()))\n",
    "result = []\n",
    "for i in range(int(input())):\n",
    "    set_b = set(map(int,input().split()))\n",
    "    set_i = set_a.intersection(set_b)\n",
    "    if len(set_b) == len(set_i):\n",
    "        if len(set_a)>len(set_b):\n",
    "            result.append(\"True\")\n",
    "    else:\n",
    "        result.append(\"False\")\n",
    "\n",
    "if \"False\" in result:\n",
    "    print(\"False\")\n",
    "else:\n",
    "    print(\"True\")\n"
   ]
  }
 ],
 "metadata": {
  "kernelspec": {
   "display_name": "Python 3",
   "language": "python",
   "name": "python3"
  },
  "language_info": {
   "codemirror_mode": {
    "name": "ipython",
    "version": 3
   },
   "file_extension": ".py",
   "mimetype": "text/x-python",
   "name": "python",
   "nbconvert_exporter": "python",
   "pygments_lexer": "ipython3",
   "version": "3.7.3"
  }
 },
 "nbformat": 4,
 "nbformat_minor": 2
}
