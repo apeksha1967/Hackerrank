{
 "cells": [
  {
   "cell_type": "code",
   "execution_count": null,
   "metadata": {},
   "outputs": [],
   "source": [
    "# Enter your code here. Read input from STDIN. Print output to STDOUT\n",
    "from collections import defaultdict\n",
    "d = defaultdict(list)\n",
    "list1=[]\n",
    "\n",
    "n, m = map(int,input().split())\n",
    "\n",
    "for i in range(0,n):\n",
    "    d[input()].append(i+1) \n",
    "\n",
    "for i in range(0,m):\n",
    "    list1=list1+[input()]  \n",
    "\n",
    "for i in list1: \n",
    "    if i in d:\n",
    "        print(\" \".join(map(str,d[i])))\n",
    "    else:\n",
    "        print(-1)\n"
   ]
  }
 ],
 "metadata": {
  "kernelspec": {
   "display_name": "Python 3",
   "language": "python",
   "name": "python3"
  },
  "language_info": {
   "codemirror_mode": {
    "name": "ipython",
    "version": 3
   },
   "file_extension": ".py",
   "mimetype": "text/x-python",
   "name": "python",
   "nbconvert_exporter": "python",
   "pygments_lexer": "ipython3",
   "version": "3.7.3"
  }
 },
 "nbformat": 4,
 "nbformat_minor": 2
}
