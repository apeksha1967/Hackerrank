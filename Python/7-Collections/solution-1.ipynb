{
 "cells": [
  {
   "cell_type": "code",
   "execution_count": null,
   "metadata": {},
   "outputs": [],
   "source": [
    "# Enter your code here. Read input from STDIN. Print output to STDOUT\n",
    "from collections import Counter\n",
    "\n",
    "num_of_shoes = int(input())\n",
    "s = Counter(list(map(int,input().split())))\n",
    "\n",
    "earning = 0\n",
    "\n",
    "for i in range(int(input())):\n",
    "    size,money = map(int,input().split())\n",
    "    if s[size]>0:\n",
    "        earning += money\n",
    "        s[size] -= 1\n",
    "\n",
    "print(earning)\n"
   ]
  }
 ],
 "metadata": {
  "kernelspec": {
   "display_name": "Python 3",
   "language": "python",
   "name": "python3"
  },
  "language_info": {
   "codemirror_mode": {
    "name": "ipython",
    "version": 3
   },
   "file_extension": ".py",
   "mimetype": "text/x-python",
   "name": "python",
   "nbconvert_exporter": "python",
   "pygments_lexer": "ipython3",
   "version": "3.7.3"
  }
 },
 "nbformat": 4,
 "nbformat_minor": 2
}
