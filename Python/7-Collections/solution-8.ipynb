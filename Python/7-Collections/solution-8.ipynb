{
 "cells": [
  {
   "cell_type": "code",
   "execution_count": null,
   "metadata": {},
   "outputs": [],
   "source": [
    "# Enter your code here. Read input from STDIN. Print output to STDOUT\n",
    "for i in range(int(input())):\n",
    "    n = int(input())\n",
    "    list_n = list(map(int,input().split()))\n",
    "    if list_n[0]>=list_n[-1]:\n",
    "        a = list_n[0]\n",
    "        list_n.pop(0)\n",
    "    else:\n",
    "        a = list_n[-1]\n",
    "        list_n.pop()\n",
    "    for j in range(n-1):\n",
    "        if list_n[0]>=list_n[-1]:\n",
    "            if list_n[0]<=a:\n",
    "                a = list_n[0]\n",
    "                list_n.pop(0)\n",
    "        elif list_n[-1]>list_n[0]:\n",
    "            if list_n[-1]<=a:\n",
    "                a = list_n[-1]\n",
    "                list_n.pop()\n",
    "    if len(list_n)>0:\n",
    "        print(\"No\")\n",
    "    else:\n",
    "        print(\"Yes\")\n"
   ]
  }
 ],
 "metadata": {
  "kernelspec": {
   "display_name": "Python 3",
   "language": "python",
   "name": "python3"
  },
  "language_info": {
   "codemirror_mode": {
    "name": "ipython",
    "version": 3
   },
   "file_extension": ".py",
   "mimetype": "text/x-python",
   "name": "python",
   "nbconvert_exporter": "python",
   "pygments_lexer": "ipython3",
   "version": "3.7.3"
  }
 },
 "nbformat": 4,
 "nbformat_minor": 2
}
