{
 "cells": [
  {
   "cell_type": "code",
   "execution_count": null,
   "metadata": {},
   "outputs": [],
   "source": [
    "if __name__ == '__main__':\n",
    "    N = int(input())\n",
    "    L = []\n",
    "    for _ in range(N):\n",
    "        user_input = input().split(' ')\n",
    "        command = user_input.pop(0)\n",
    "        if len(user_input) > 0:\n",
    "            if 'insert' == command:\n",
    "                eval(\"L.{0}({1}, {2})\".format(command, user_input[0], user_input[1]))\n",
    "            else:\n",
    "                eval(\"L.{0}({1})\".format(command, user_input[0]))\n",
    "        elif command == 'print':\n",
    "            print(L)\n",
    "        else:\n",
    "            eval(\"L.{0}()\".format(command))\n"
   ]
  }
 ],
 "metadata": {
  "kernelspec": {
   "display_name": "Python 3",
   "language": "python",
   "name": "python3"
  },
  "language_info": {
   "codemirror_mode": {
    "name": "ipython",
    "version": 3
   },
   "file_extension": ".py",
   "mimetype": "text/x-python",
   "name": "python",
   "nbconvert_exporter": "python",
   "pygments_lexer": "ipython3",
   "version": "3.7.3"
  }
 },
 "nbformat": 4,
 "nbformat_minor": 2
}
