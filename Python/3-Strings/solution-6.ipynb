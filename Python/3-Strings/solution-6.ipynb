{
 "cells": [
  {
   "cell_type": "code",
   "execution_count": null,
   "metadata": {},
   "outputs": [],
   "source": [
    "if __name__ == '__main__':\n",
    "    s = input()\n",
    "    result = [\"False\", \"False\", \"False\", \"False\", \"False\"]\n",
    "    for i in s:\n",
    "        if i.isalnum():\n",
    "            result[0] = \"True\"\n",
    "        if i.isalpha():\n",
    "            result[1] = \"True\"\n",
    "        if i.isdigit():\n",
    "            result[2] = \"True\"\n",
    "        if i.islower():\n",
    "            result[3] = \"True\"\n",
    "        if i.isupper():\n",
    "            result[4] = \"True\"\n",
    "    print(*result,sep=\"\\n\" )\n"
   ]
  }
 ],
 "metadata": {
  "kernelspec": {
   "display_name": "Python 3",
   "language": "python",
   "name": "python3"
  },
  "language_info": {
   "codemirror_mode": {
    "name": "ipython",
    "version": 3
   },
   "file_extension": ".py",
   "mimetype": "text/x-python",
   "name": "python",
   "nbconvert_exporter": "python",
   "pygments_lexer": "ipython3",
   "version": "3.7.3"
  }
 },
 "nbformat": 4,
 "nbformat_minor": 2
}
