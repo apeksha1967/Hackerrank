{
 "cells": [
  {
   "cell_type": "code",
   "execution_count": null,
   "metadata": {},
   "outputs": [],
   "source": [
    "import string\n",
    "\n",
    "def print_rangoli(n):\n",
    "    # your code goes here\n",
    "    alpha = string.ascii_lowercase\n",
    "    L = []\n",
    "    for i in range(n):\n",
    "        s = \"-\".join(alpha[i:n])\n",
    "        L.append((s[::-1]+s[1:]).center(4*n-3, \"-\"))\n",
    "    print('\\n'.join(L[:0:-1]+L))\n",
    "\n"
   ]
  }
 ],
 "metadata": {
  "kernelspec": {
   "display_name": "Python 3",
   "language": "python",
   "name": "python3"
  },
  "language_info": {
   "codemirror_mode": {
    "name": "ipython",
    "version": 3
   },
   "file_extension": ".py",
   "mimetype": "text/x-python",
   "name": "python",
   "nbconvert_exporter": "python",
   "pygments_lexer": "ipython3",
   "version": "3.7.3"
  }
 },
 "nbformat": 4,
 "nbformat_minor": 2
}
