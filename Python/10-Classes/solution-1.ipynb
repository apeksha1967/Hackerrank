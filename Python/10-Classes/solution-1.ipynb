{
 "cells": [
  {
   "cell_type": "code",
   "execution_count": null,
   "metadata": {},
   "outputs": [],
   "source": [
    "\n",
    "\n",
    "class Complex(object):\n",
    "    def __init__(self, real, imaginary):\n",
    "        self.real = real\n",
    "        self.imaginary = imaginary\n",
    "        \n",
    "    def __add__(self, no):\n",
    "        return Complex(self.real+no.real,self.imaginary+no.imaginary)\n",
    "        \n",
    "    def __sub__(self, no):\n",
    "        return Complex(self.real-no.real,self.imaginary-no.imaginary)\n",
    "        \n",
    "    def __mul__(self, no):\n",
    "        return Complex((self.real*no.real)-(self.imaginary*no.imaginary),(self.real*no.imaginary)+(no.real*self.imaginary))\n",
    "\n",
    "    def __truediv__(self, no):\n",
    "        return Complex(((self.real*no.real)+(self.imaginary*no.imaginary))/((no.real*no.real)+(no.imaginary*no.imaginary)),((self.imaginary*no.real)-(self.real*no.imaginary))/((no.real*no.real)+(no.imaginary*no.imaginary)))\n",
    "\n",
    "    def mod(self):\n",
    "        return Complex(pow(self.real**2+self.imaginary**2,0.5),0)\n",
    "\n",
    "    def __str__(self):\n",
    "        if self.imaginary == 0:\n",
    "            result = \"%.2f+0.00i\" % (self.real)\n",
    "        elif self.real == 0:\n",
    "            if self.imaginary >= 0:\n",
    "                result = \"0.00+%.2fi\" % (self.imaginary)\n",
    "            else:\n",
    "                result = \"0.00-%.2fi\" % (abs(self.imaginary))\n",
    "        elif self.imaginary > 0:\n",
    "            result = \"%.2f+%.2fi\" % (self.real, self.imaginary)\n",
    "        else:\n",
    "            result = \"%.2f-%.2fi\" % (self.real, abs(self.imaginary))\n",
    "        return result\n",
    "\n"
   ]
  }
 ],
 "metadata": {
  "kernelspec": {
   "display_name": "Python 3",
   "language": "python",
   "name": "python3"
  },
  "language_info": {
   "codemirror_mode": {
    "name": "ipython",
    "version": 3
   },
   "file_extension": ".py",
   "mimetype": "text/x-python",
   "name": "python",
   "nbconvert_exporter": "python",
   "pygments_lexer": "ipython3",
   "version": "3.7.3"
  }
 },
 "nbformat": 4,
 "nbformat_minor": 2
}
