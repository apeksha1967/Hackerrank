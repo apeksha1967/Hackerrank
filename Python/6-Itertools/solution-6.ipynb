{
 "cells": [
  {
   "cell_type": "code",
   "execution_count": null,
   "metadata": {},
   "outputs": [],
   "source": [
    "from itertools import combinations\n",
    "k = int(input())\n",
    "m = input().split()\n",
    "\n",
    "d = int(input())\n",
    "n = list(combinations(sorted(m),d))\n",
    "\n",
    "count = 0\n",
    "for b in range(0,len(n)):\n",
    "    if(\"a\" in n[b]):\n",
    "        count += 1\n",
    "print(count/len(n))\n"
   ]
  }
 ],
 "metadata": {
  "kernelspec": {
   "display_name": "Python 3",
   "language": "python",
   "name": "python3"
  },
  "language_info": {
   "codemirror_mode": {
    "name": "ipython",
    "version": 3
   },
   "file_extension": ".py",
   "mimetype": "text/x-python",
   "name": "python",
   "nbconvert_exporter": "python",
   "pygments_lexer": "ipython3",
   "version": "3.7.3"
  }
 },
 "nbformat": 4,
 "nbformat_minor": 2
}
