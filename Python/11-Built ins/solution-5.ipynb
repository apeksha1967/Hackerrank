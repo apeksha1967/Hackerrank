{
 "cells": [
  {
   "cell_type": "code",
   "execution_count": null,
   "metadata": {},
   "outputs": [],
   "source": [
    "def palindrome(s):\n",
    "    return bool(s==s[::-1])\n",
    "n = int(input())\n",
    "list_n = input().split()\n",
    "mylist = []\n",
    "m = []\n",
    "for j in range(n):\n",
    "    if palindrome(list_n[j]):\n",
    "        m.append(True)\n",
    "    else:\n",
    "        m.append(False)\n",
    "mylist.append(any(m))\n",
    "for i in range(n):\n",
    "    if int(list_n[i])>0:\n",
    "        mylist.append(True)        \n",
    "    else:\n",
    "        mylist.append(False)\n",
    "print(all(mylist))\n"
   ]
  }
 ],
 "metadata": {
  "kernelspec": {
   "display_name": "Python 3",
   "language": "python",
   "name": "python3"
  },
  "language_info": {
   "codemirror_mode": {
    "name": "ipython",
    "version": 3
   },
   "file_extension": ".py",
   "mimetype": "text/x-python",
   "name": "python",
   "nbconvert_exporter": "python",
   "pygments_lexer": "ipython3",
   "version": "3.7.3"
  }
 },
 "nbformat": 4,
 "nbformat_minor": 2
}
