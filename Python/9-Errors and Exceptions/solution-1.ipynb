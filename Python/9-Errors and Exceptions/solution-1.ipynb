{
 "cells": [
  {
   "cell_type": "code",
   "execution_count": null,
   "metadata": {},
   "outputs": [],
   "source": [
    "# Enter your code here. Read input from STDIN. Print output to STDOUT\n",
    "for i in range(int(input())):\n",
    "    a,b = map(str,input().split())\n",
    "    try:\n",
    "        print(int(int(a)/int(b)))\n",
    "    except ZeroDivisionError:\n",
    "        print(\"Error Code: integer division or modulo by zero\")\n",
    "    except ValueError as e:\n",
    "            print(\"Error Code:\",e)\n"
   ]
  }
 ],
 "metadata": {
  "kernelspec": {
   "display_name": "Python 3",
   "language": "python",
   "name": "python3"
  },
  "language_info": {
   "codemirror_mode": {
    "name": "ipython",
    "version": 3
   },
   "file_extension": ".py",
   "mimetype": "text/x-python",
   "name": "python",
   "nbconvert_exporter": "python",
   "pygments_lexer": "ipython3",
   "version": "3.7.3"
  }
 },
 "nbformat": 4,
 "nbformat_minor": 2
}
