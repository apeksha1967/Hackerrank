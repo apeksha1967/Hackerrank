{
 "cells": [
  {
   "cell_type": "code",
   "execution_count": null,
   "metadata": {},
   "outputs": [],
   "source": [
    "s = list(input())\n",
    "l = []\n",
    "u = []\n",
    "o = []\n",
    "e = []\n",
    "for i in s:\n",
    "    if i.islower():\n",
    "        l.append(i)\n",
    "    elif i.isupper():\n",
    "        u.append(i)\n",
    "    elif i.isdigit():\n",
    "        if int(i)%2==0:\n",
    "            e.append(i)\n",
    "        else:\n",
    "            o.append(i)\n",
    "output = sorted(l)+sorted(u)+sorted(o)+sorted(e)\n",
    "print(''.join(output))\n"
   ]
  }
 ],
 "metadata": {
  "kernelspec": {
   "display_name": "Python 3",
   "language": "python",
   "name": "python3"
  },
  "language_info": {
   "codemirror_mode": {
    "name": "ipython",
    "version": 3
   },
   "file_extension": ".py",
   "mimetype": "text/x-python",
   "name": "python",
   "nbconvert_exporter": "python",
   "pygments_lexer": "ipython3",
   "version": "3.7.3"
  }
 },
 "nbformat": 4,
 "nbformat_minor": 2
}
